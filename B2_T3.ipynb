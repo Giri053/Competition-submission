{
 "cells": [
  {
   "cell_type": "markdown",
   "id": "52a00bb0",
   "metadata": {},
   "source": [
    "#                                  >> M1: DATA COLLECTION"
   ]
  },
  {
   "cell_type": "code",
   "execution_count": 139,
   "id": "2e0efd5c",
   "metadata": {},
   "outputs": [],
   "source": [
    "# import packages \n",
    "import numpy as np\n",
    "import pandas as pd\n",
    "import seaborn as sns\n",
    "import matplotlib.pyplot as plt"
   ]
  },
  {
   "cell_type": "code",
   "execution_count": 140,
   "id": "62bb4726",
   "metadata": {},
   "outputs": [],
   "source": [
    "# filter warnings that can be ignored\n",
    "import warnings\n",
    "warnings.filterwarnings('ignore')"
   ]
  },
  {
   "cell_type": "code",
   "execution_count": 141,
   "id": "69792a8c",
   "metadata": {},
   "outputs": [
    {
     "data": {
      "text/html": [
       "<div>\n",
       "<style scoped>\n",
       "    .dataframe tbody tr th:only-of-type {\n",
       "        vertical-align: middle;\n",
       "    }\n",
       "\n",
       "    .dataframe tbody tr th {\n",
       "        vertical-align: top;\n",
       "    }\n",
       "\n",
       "    .dataframe thead th {\n",
       "        text-align: right;\n",
       "    }\n",
       "</style>\n",
       "<table border=\"1\" class=\"dataframe\">\n",
       "  <thead>\n",
       "    <tr style=\"text-align: right;\">\n",
       "      <th></th>\n",
       "      <th>City</th>\n",
       "      <th>Date</th>\n",
       "      <th>PM2.5</th>\n",
       "      <th>PM10</th>\n",
       "      <th>NO</th>\n",
       "      <th>NO2</th>\n",
       "      <th>NOx</th>\n",
       "      <th>NH3</th>\n",
       "      <th>CO</th>\n",
       "      <th>SO2</th>\n",
       "      <th>O3</th>\n",
       "      <th>Benzene</th>\n",
       "      <th>Toluene</th>\n",
       "      <th>Xylene</th>\n",
       "      <th>AQI</th>\n",
       "      <th>AQI_Bucket</th>\n",
       "    </tr>\n",
       "  </thead>\n",
       "  <tbody>\n",
       "    <tr>\n",
       "      <th>0</th>\n",
       "      <td>Ahmedabad</td>\n",
       "      <td>2015-01-01</td>\n",
       "      <td>NaN</td>\n",
       "      <td>NaN</td>\n",
       "      <td>0.92</td>\n",
       "      <td>18.22</td>\n",
       "      <td>17.15</td>\n",
       "      <td>NaN</td>\n",
       "      <td>0.92</td>\n",
       "      <td>27.64</td>\n",
       "      <td>133.36</td>\n",
       "      <td>0.00</td>\n",
       "      <td>0.02</td>\n",
       "      <td>0.00</td>\n",
       "      <td>NaN</td>\n",
       "      <td>NaN</td>\n",
       "    </tr>\n",
       "    <tr>\n",
       "      <th>1</th>\n",
       "      <td>Ahmedabad</td>\n",
       "      <td>2015-01-02</td>\n",
       "      <td>NaN</td>\n",
       "      <td>NaN</td>\n",
       "      <td>0.97</td>\n",
       "      <td>15.69</td>\n",
       "      <td>16.46</td>\n",
       "      <td>NaN</td>\n",
       "      <td>0.97</td>\n",
       "      <td>24.55</td>\n",
       "      <td>34.06</td>\n",
       "      <td>3.68</td>\n",
       "      <td>5.50</td>\n",
       "      <td>3.77</td>\n",
       "      <td>NaN</td>\n",
       "      <td>NaN</td>\n",
       "    </tr>\n",
       "    <tr>\n",
       "      <th>2</th>\n",
       "      <td>Ahmedabad</td>\n",
       "      <td>2015-01-03</td>\n",
       "      <td>NaN</td>\n",
       "      <td>NaN</td>\n",
       "      <td>17.40</td>\n",
       "      <td>19.30</td>\n",
       "      <td>29.70</td>\n",
       "      <td>NaN</td>\n",
       "      <td>17.40</td>\n",
       "      <td>29.07</td>\n",
       "      <td>30.70</td>\n",
       "      <td>6.80</td>\n",
       "      <td>16.40</td>\n",
       "      <td>2.25</td>\n",
       "      <td>NaN</td>\n",
       "      <td>NaN</td>\n",
       "    </tr>\n",
       "    <tr>\n",
       "      <th>3</th>\n",
       "      <td>Ahmedabad</td>\n",
       "      <td>2015-01-04</td>\n",
       "      <td>NaN</td>\n",
       "      <td>NaN</td>\n",
       "      <td>1.70</td>\n",
       "      <td>18.48</td>\n",
       "      <td>17.97</td>\n",
       "      <td>NaN</td>\n",
       "      <td>1.70</td>\n",
       "      <td>18.59</td>\n",
       "      <td>36.08</td>\n",
       "      <td>4.43</td>\n",
       "      <td>10.14</td>\n",
       "      <td>1.00</td>\n",
       "      <td>NaN</td>\n",
       "      <td>NaN</td>\n",
       "    </tr>\n",
       "    <tr>\n",
       "      <th>4</th>\n",
       "      <td>Ahmedabad</td>\n",
       "      <td>2015-01-05</td>\n",
       "      <td>NaN</td>\n",
       "      <td>NaN</td>\n",
       "      <td>22.10</td>\n",
       "      <td>21.42</td>\n",
       "      <td>37.76</td>\n",
       "      <td>NaN</td>\n",
       "      <td>22.10</td>\n",
       "      <td>39.33</td>\n",
       "      <td>39.31</td>\n",
       "      <td>7.01</td>\n",
       "      <td>18.89</td>\n",
       "      <td>2.78</td>\n",
       "      <td>NaN</td>\n",
       "      <td>NaN</td>\n",
       "    </tr>\n",
       "    <tr>\n",
       "      <th>...</th>\n",
       "      <td>...</td>\n",
       "      <td>...</td>\n",
       "      <td>...</td>\n",
       "      <td>...</td>\n",
       "      <td>...</td>\n",
       "      <td>...</td>\n",
       "      <td>...</td>\n",
       "      <td>...</td>\n",
       "      <td>...</td>\n",
       "      <td>...</td>\n",
       "      <td>...</td>\n",
       "      <td>...</td>\n",
       "      <td>...</td>\n",
       "      <td>...</td>\n",
       "      <td>...</td>\n",
       "      <td>...</td>\n",
       "    </tr>\n",
       "    <tr>\n",
       "      <th>29526</th>\n",
       "      <td>Visakhapatnam</td>\n",
       "      <td>2020-06-27</td>\n",
       "      <td>15.02</td>\n",
       "      <td>50.94</td>\n",
       "      <td>7.68</td>\n",
       "      <td>25.06</td>\n",
       "      <td>19.54</td>\n",
       "      <td>12.47</td>\n",
       "      <td>0.47</td>\n",
       "      <td>8.55</td>\n",
       "      <td>23.30</td>\n",
       "      <td>2.24</td>\n",
       "      <td>12.07</td>\n",
       "      <td>0.73</td>\n",
       "      <td>41.0</td>\n",
       "      <td>Good</td>\n",
       "    </tr>\n",
       "    <tr>\n",
       "      <th>29527</th>\n",
       "      <td>Visakhapatnam</td>\n",
       "      <td>2020-06-28</td>\n",
       "      <td>24.38</td>\n",
       "      <td>74.09</td>\n",
       "      <td>3.42</td>\n",
       "      <td>26.06</td>\n",
       "      <td>16.53</td>\n",
       "      <td>11.99</td>\n",
       "      <td>0.52</td>\n",
       "      <td>12.72</td>\n",
       "      <td>30.14</td>\n",
       "      <td>0.74</td>\n",
       "      <td>2.21</td>\n",
       "      <td>0.38</td>\n",
       "      <td>70.0</td>\n",
       "      <td>Satisfactory</td>\n",
       "    </tr>\n",
       "    <tr>\n",
       "      <th>29528</th>\n",
       "      <td>Visakhapatnam</td>\n",
       "      <td>2020-06-29</td>\n",
       "      <td>22.91</td>\n",
       "      <td>65.73</td>\n",
       "      <td>3.45</td>\n",
       "      <td>29.53</td>\n",
       "      <td>18.33</td>\n",
       "      <td>10.71</td>\n",
       "      <td>0.48</td>\n",
       "      <td>8.42</td>\n",
       "      <td>30.96</td>\n",
       "      <td>0.01</td>\n",
       "      <td>0.01</td>\n",
       "      <td>0.00</td>\n",
       "      <td>68.0</td>\n",
       "      <td>Satisfactory</td>\n",
       "    </tr>\n",
       "    <tr>\n",
       "      <th>29529</th>\n",
       "      <td>Visakhapatnam</td>\n",
       "      <td>2020-06-30</td>\n",
       "      <td>16.64</td>\n",
       "      <td>49.97</td>\n",
       "      <td>4.05</td>\n",
       "      <td>29.26</td>\n",
       "      <td>18.80</td>\n",
       "      <td>10.03</td>\n",
       "      <td>0.52</td>\n",
       "      <td>9.84</td>\n",
       "      <td>28.30</td>\n",
       "      <td>0.00</td>\n",
       "      <td>0.00</td>\n",
       "      <td>0.00</td>\n",
       "      <td>54.0</td>\n",
       "      <td>Satisfactory</td>\n",
       "    </tr>\n",
       "    <tr>\n",
       "      <th>29530</th>\n",
       "      <td>Visakhapatnam</td>\n",
       "      <td>2020-07-01</td>\n",
       "      <td>15.00</td>\n",
       "      <td>66.00</td>\n",
       "      <td>0.40</td>\n",
       "      <td>26.85</td>\n",
       "      <td>14.05</td>\n",
       "      <td>5.20</td>\n",
       "      <td>0.59</td>\n",
       "      <td>2.10</td>\n",
       "      <td>17.05</td>\n",
       "      <td>NaN</td>\n",
       "      <td>NaN</td>\n",
       "      <td>NaN</td>\n",
       "      <td>50.0</td>\n",
       "      <td>Good</td>\n",
       "    </tr>\n",
       "  </tbody>\n",
       "</table>\n",
       "<p>29531 rows × 16 columns</p>\n",
       "</div>"
      ],
      "text/plain": [
       "                City        Date  PM2.5   PM10     NO    NO2    NOx    NH3  \\\n",
       "0          Ahmedabad  2015-01-01    NaN    NaN   0.92  18.22  17.15    NaN   \n",
       "1          Ahmedabad  2015-01-02    NaN    NaN   0.97  15.69  16.46    NaN   \n",
       "2          Ahmedabad  2015-01-03    NaN    NaN  17.40  19.30  29.70    NaN   \n",
       "3          Ahmedabad  2015-01-04    NaN    NaN   1.70  18.48  17.97    NaN   \n",
       "4          Ahmedabad  2015-01-05    NaN    NaN  22.10  21.42  37.76    NaN   \n",
       "...              ...         ...    ...    ...    ...    ...    ...    ...   \n",
       "29526  Visakhapatnam  2020-06-27  15.02  50.94   7.68  25.06  19.54  12.47   \n",
       "29527  Visakhapatnam  2020-06-28  24.38  74.09   3.42  26.06  16.53  11.99   \n",
       "29528  Visakhapatnam  2020-06-29  22.91  65.73   3.45  29.53  18.33  10.71   \n",
       "29529  Visakhapatnam  2020-06-30  16.64  49.97   4.05  29.26  18.80  10.03   \n",
       "29530  Visakhapatnam  2020-07-01  15.00  66.00   0.40  26.85  14.05   5.20   \n",
       "\n",
       "          CO    SO2      O3  Benzene  Toluene  Xylene   AQI    AQI_Bucket  \n",
       "0       0.92  27.64  133.36     0.00     0.02    0.00   NaN           NaN  \n",
       "1       0.97  24.55   34.06     3.68     5.50    3.77   NaN           NaN  \n",
       "2      17.40  29.07   30.70     6.80    16.40    2.25   NaN           NaN  \n",
       "3       1.70  18.59   36.08     4.43    10.14    1.00   NaN           NaN  \n",
       "4      22.10  39.33   39.31     7.01    18.89    2.78   NaN           NaN  \n",
       "...      ...    ...     ...      ...      ...     ...   ...           ...  \n",
       "29526   0.47   8.55   23.30     2.24    12.07    0.73  41.0          Good  \n",
       "29527   0.52  12.72   30.14     0.74     2.21    0.38  70.0  Satisfactory  \n",
       "29528   0.48   8.42   30.96     0.01     0.01    0.00  68.0  Satisfactory  \n",
       "29529   0.52   9.84   28.30     0.00     0.00    0.00  54.0  Satisfactory  \n",
       "29530   0.59   2.10   17.05      NaN      NaN     NaN  50.0          Good  \n",
       "\n",
       "[29531 rows x 16 columns]"
      ]
     },
     "execution_count": 141,
     "metadata": {},
     "output_type": "execute_result"
    }
   ],
   "source": [
    "#read dataset using read_csv() - data.csv\n",
    "df = pd.read_csv(\"city_day.csv\")\n",
    "df"
   ]
  },
  {
   "cell_type": "markdown",
   "id": "b578c05a",
   "metadata": {},
   "source": [
    "#                        >>M2: PRE-PROCESSING"
   ]
  },
  {
   "cell_type": "markdown",
   "id": "54994730",
   "metadata": {},
   "source": [
    "# Initial level of investigation on dataset"
   ]
  },
  {
   "cell_type": "code",
   "execution_count": 142,
   "id": "eec1acba",
   "metadata": {},
   "outputs": [
    {
     "data": {
      "text/plain": [
       "(29531, 16)"
      ]
     },
     "execution_count": 142,
     "metadata": {},
     "output_type": "execute_result"
    }
   ],
   "source": [
    "df.shape #dimensions of the data"
   ]
  },
  {
   "cell_type": "code",
   "execution_count": 143,
   "id": "c455db90",
   "metadata": {},
   "outputs": [
    {
     "data": {
      "text/plain": [
       "Index(['City', 'Date', 'PM2.5', 'PM10', 'NO', 'NO2', 'NOx', 'NH3', 'CO', 'SO2',\n",
       "       'O3', 'Benzene', 'Toluene', 'Xylene', 'AQI', 'AQI_Bucket'],\n",
       "      dtype='object')"
      ]
     },
     "execution_count": 143,
     "metadata": {},
     "output_type": "execute_result"
    }
   ],
   "source": [
    "df.columns #print the columns/features of the data"
   ]
  },
  {
   "cell_type": "code",
   "execution_count": 144,
   "id": "37252dad",
   "metadata": {},
   "outputs": [
    {
     "data": {
      "text/html": [
       "<div>\n",
       "<style scoped>\n",
       "    .dataframe tbody tr th:only-of-type {\n",
       "        vertical-align: middle;\n",
       "    }\n",
       "\n",
       "    .dataframe tbody tr th {\n",
       "        vertical-align: top;\n",
       "    }\n",
       "\n",
       "    .dataframe thead th {\n",
       "        text-align: right;\n",
       "    }\n",
       "</style>\n",
       "<table border=\"1\" class=\"dataframe\">\n",
       "  <thead>\n",
       "    <tr style=\"text-align: right;\">\n",
       "      <th></th>\n",
       "      <th>PM2.5</th>\n",
       "      <th>PM10</th>\n",
       "      <th>NO</th>\n",
       "      <th>NO2</th>\n",
       "      <th>NOx</th>\n",
       "      <th>NH3</th>\n",
       "      <th>CO</th>\n",
       "      <th>SO2</th>\n",
       "      <th>O3</th>\n",
       "      <th>Benzene</th>\n",
       "      <th>Toluene</th>\n",
       "      <th>Xylene</th>\n",
       "      <th>AQI</th>\n",
       "    </tr>\n",
       "  </thead>\n",
       "  <tbody>\n",
       "    <tr>\n",
       "      <th>count</th>\n",
       "      <td>24933.000000</td>\n",
       "      <td>18391.000000</td>\n",
       "      <td>25949.000000</td>\n",
       "      <td>25946.000000</td>\n",
       "      <td>25346.000000</td>\n",
       "      <td>19203.000000</td>\n",
       "      <td>27472.000000</td>\n",
       "      <td>25677.000000</td>\n",
       "      <td>25509.000000</td>\n",
       "      <td>23908.000000</td>\n",
       "      <td>21490.000000</td>\n",
       "      <td>11422.000000</td>\n",
       "      <td>24850.000000</td>\n",
       "    </tr>\n",
       "    <tr>\n",
       "      <th>mean</th>\n",
       "      <td>67.450578</td>\n",
       "      <td>118.127103</td>\n",
       "      <td>17.574730</td>\n",
       "      <td>28.560659</td>\n",
       "      <td>32.309123</td>\n",
       "      <td>23.483476</td>\n",
       "      <td>2.248598</td>\n",
       "      <td>14.531977</td>\n",
       "      <td>34.491430</td>\n",
       "      <td>3.280840</td>\n",
       "      <td>8.700972</td>\n",
       "      <td>3.070128</td>\n",
       "      <td>166.463581</td>\n",
       "    </tr>\n",
       "    <tr>\n",
       "      <th>std</th>\n",
       "      <td>64.661449</td>\n",
       "      <td>90.605110</td>\n",
       "      <td>22.785846</td>\n",
       "      <td>24.474746</td>\n",
       "      <td>31.646011</td>\n",
       "      <td>25.684275</td>\n",
       "      <td>6.962884</td>\n",
       "      <td>18.133775</td>\n",
       "      <td>21.694928</td>\n",
       "      <td>15.811136</td>\n",
       "      <td>19.969164</td>\n",
       "      <td>6.323247</td>\n",
       "      <td>140.696585</td>\n",
       "    </tr>\n",
       "    <tr>\n",
       "      <th>min</th>\n",
       "      <td>0.040000</td>\n",
       "      <td>0.010000</td>\n",
       "      <td>0.020000</td>\n",
       "      <td>0.010000</td>\n",
       "      <td>0.000000</td>\n",
       "      <td>0.010000</td>\n",
       "      <td>0.000000</td>\n",
       "      <td>0.010000</td>\n",
       "      <td>0.010000</td>\n",
       "      <td>0.000000</td>\n",
       "      <td>0.000000</td>\n",
       "      <td>0.000000</td>\n",
       "      <td>13.000000</td>\n",
       "    </tr>\n",
       "    <tr>\n",
       "      <th>25%</th>\n",
       "      <td>28.820000</td>\n",
       "      <td>56.255000</td>\n",
       "      <td>5.630000</td>\n",
       "      <td>11.750000</td>\n",
       "      <td>12.820000</td>\n",
       "      <td>8.580000</td>\n",
       "      <td>0.510000</td>\n",
       "      <td>5.670000</td>\n",
       "      <td>18.860000</td>\n",
       "      <td>0.120000</td>\n",
       "      <td>0.600000</td>\n",
       "      <td>0.140000</td>\n",
       "      <td>81.000000</td>\n",
       "    </tr>\n",
       "    <tr>\n",
       "      <th>50%</th>\n",
       "      <td>48.570000</td>\n",
       "      <td>95.680000</td>\n",
       "      <td>9.890000</td>\n",
       "      <td>21.690000</td>\n",
       "      <td>23.520000</td>\n",
       "      <td>15.850000</td>\n",
       "      <td>0.890000</td>\n",
       "      <td>9.160000</td>\n",
       "      <td>30.840000</td>\n",
       "      <td>1.070000</td>\n",
       "      <td>2.970000</td>\n",
       "      <td>0.980000</td>\n",
       "      <td>118.000000</td>\n",
       "    </tr>\n",
       "    <tr>\n",
       "      <th>75%</th>\n",
       "      <td>80.590000</td>\n",
       "      <td>149.745000</td>\n",
       "      <td>19.950000</td>\n",
       "      <td>37.620000</td>\n",
       "      <td>40.127500</td>\n",
       "      <td>30.020000</td>\n",
       "      <td>1.450000</td>\n",
       "      <td>15.220000</td>\n",
       "      <td>45.570000</td>\n",
       "      <td>3.080000</td>\n",
       "      <td>9.150000</td>\n",
       "      <td>3.350000</td>\n",
       "      <td>208.000000</td>\n",
       "    </tr>\n",
       "    <tr>\n",
       "      <th>max</th>\n",
       "      <td>949.990000</td>\n",
       "      <td>1000.000000</td>\n",
       "      <td>390.680000</td>\n",
       "      <td>362.210000</td>\n",
       "      <td>467.630000</td>\n",
       "      <td>352.890000</td>\n",
       "      <td>175.810000</td>\n",
       "      <td>193.860000</td>\n",
       "      <td>257.730000</td>\n",
       "      <td>455.030000</td>\n",
       "      <td>454.850000</td>\n",
       "      <td>170.370000</td>\n",
       "      <td>2049.000000</td>\n",
       "    </tr>\n",
       "  </tbody>\n",
       "</table>\n",
       "</div>"
      ],
      "text/plain": [
       "              PM2.5          PM10            NO           NO2           NOx  \\\n",
       "count  24933.000000  18391.000000  25949.000000  25946.000000  25346.000000   \n",
       "mean      67.450578    118.127103     17.574730     28.560659     32.309123   \n",
       "std       64.661449     90.605110     22.785846     24.474746     31.646011   \n",
       "min        0.040000      0.010000      0.020000      0.010000      0.000000   \n",
       "25%       28.820000     56.255000      5.630000     11.750000     12.820000   \n",
       "50%       48.570000     95.680000      9.890000     21.690000     23.520000   \n",
       "75%       80.590000    149.745000     19.950000     37.620000     40.127500   \n",
       "max      949.990000   1000.000000    390.680000    362.210000    467.630000   \n",
       "\n",
       "                NH3            CO           SO2            O3       Benzene  \\\n",
       "count  19203.000000  27472.000000  25677.000000  25509.000000  23908.000000   \n",
       "mean      23.483476      2.248598     14.531977     34.491430      3.280840   \n",
       "std       25.684275      6.962884     18.133775     21.694928     15.811136   \n",
       "min        0.010000      0.000000      0.010000      0.010000      0.000000   \n",
       "25%        8.580000      0.510000      5.670000     18.860000      0.120000   \n",
       "50%       15.850000      0.890000      9.160000     30.840000      1.070000   \n",
       "75%       30.020000      1.450000     15.220000     45.570000      3.080000   \n",
       "max      352.890000    175.810000    193.860000    257.730000    455.030000   \n",
       "\n",
       "            Toluene        Xylene           AQI  \n",
       "count  21490.000000  11422.000000  24850.000000  \n",
       "mean       8.700972      3.070128    166.463581  \n",
       "std       19.969164      6.323247    140.696585  \n",
       "min        0.000000      0.000000     13.000000  \n",
       "25%        0.600000      0.140000     81.000000  \n",
       "50%        2.970000      0.980000    118.000000  \n",
       "75%        9.150000      3.350000    208.000000  \n",
       "max      454.850000    170.370000   2049.000000  "
      ]
     },
     "execution_count": 144,
     "metadata": {},
     "output_type": "execute_result"
    }
   ],
   "source": [
    "df.describe() #basic info of the dataset"
   ]
  },
  {
   "cell_type": "code",
   "execution_count": 145,
   "id": "48587631",
   "metadata": {},
   "outputs": [
    {
     "data": {
      "text/plain": [
       "City          29531\n",
       "Date          29531\n",
       "PM2.5         24933\n",
       "PM10          18391\n",
       "NO            25949\n",
       "NO2           25946\n",
       "NOx           25346\n",
       "NH3           19203\n",
       "CO            27472\n",
       "SO2           25677\n",
       "O3            25509\n",
       "Benzene       23908\n",
       "Toluene       21490\n",
       "Xylene        11422\n",
       "AQI           24850\n",
       "AQI_Bucket    24850\n",
       "dtype: int64"
      ]
     },
     "execution_count": 145,
     "metadata": {},
     "output_type": "execute_result"
    }
   ],
   "source": [
    "df.count() #number of non null values in each column."
   ]
  },
  {
   "cell_type": "code",
   "execution_count": 146,
   "id": "13fda3d4",
   "metadata": {},
   "outputs": [
    {
     "name": "stdout",
     "output_type": "stream",
     "text": [
      "<class 'pandas.core.frame.DataFrame'>\n",
      "RangeIndex: 29531 entries, 0 to 29530\n",
      "Data columns (total 16 columns):\n",
      " #   Column      Non-Null Count  Dtype  \n",
      "---  ------      --------------  -----  \n",
      " 0   City        29531 non-null  object \n",
      " 1   Date        29531 non-null  object \n",
      " 2   PM2.5       24933 non-null  float64\n",
      " 3   PM10        18391 non-null  float64\n",
      " 4   NO          25949 non-null  float64\n",
      " 5   NO2         25946 non-null  float64\n",
      " 6   NOx         25346 non-null  float64\n",
      " 7   NH3         19203 non-null  float64\n",
      " 8   CO          27472 non-null  float64\n",
      " 9   SO2         25677 non-null  float64\n",
      " 10  O3          25509 non-null  float64\n",
      " 11  Benzene     23908 non-null  float64\n",
      " 12  Toluene     21490 non-null  float64\n",
      " 13  Xylene      11422 non-null  float64\n",
      " 14  AQI         24850 non-null  float64\n",
      " 15  AQI_Bucket  24850 non-null  object \n",
      "dtypes: float64(13), object(3)\n",
      "memory usage: 3.6+ MB\n"
     ]
    }
   ],
   "source": [
    "df.info() #returns range, column, number of non-null objects of each column, datatype and memory usage."
   ]
  },
  {
   "cell_type": "code",
   "execution_count": 147,
   "id": "9e3c6907",
   "metadata": {},
   "outputs": [
    {
     "name": "stdout",
     "output_type": "stream",
     "text": [
      "Total number of cities in the dataset : 26\n",
      "Index(['Ahmedabad', 'Delhi', 'Mumbai', 'Bengaluru', 'Lucknow', 'Chennai',\n",
      "       'Hyderabad', 'Patna', 'Gurugram', 'Visakhapatnam', 'Amritsar',\n",
      "       'Jorapokhar', 'Jaipur', 'Thiruvananthapuram', 'Amaravati',\n",
      "       'Brajrajnagar', 'Talcher', 'Kolkata', 'Guwahati', 'Coimbatore',\n",
      "       'Shillong', 'Chandigarh', 'Bhopal', 'Ernakulam', 'Kochi', 'Aizawl'],\n",
      "      dtype='object')\n"
     ]
    }
   ],
   "source": [
    "#Cities in the dataset\n",
    "\n",
    "cities = df['City'].value_counts()\n",
    "print(f'Total number of cities in the dataset : {len(cities)}')\n",
    "print(cities.index)"
   ]
  },
  {
   "cell_type": "markdown",
   "id": "351f8749",
   "metadata": {},
   "source": [
    "# Check for the null values present in the dataset"
   ]
  },
  {
   "cell_type": "code",
   "execution_count": 148,
   "id": "400f4e6b",
   "metadata": {},
   "outputs": [
    {
     "data": {
      "text/plain": [
       "City              0\n",
       "Date              0\n",
       "PM2.5          4598\n",
       "PM10          11140\n",
       "NO             3582\n",
       "NO2            3585\n",
       "NOx            4185\n",
       "NH3           10328\n",
       "CO             2059\n",
       "SO2            3854\n",
       "O3             4022\n",
       "Benzene        5623\n",
       "Toluene        8041\n",
       "Xylene        18109\n",
       "AQI            4681\n",
       "AQI_Bucket     4681\n",
       "dtype: int64"
      ]
     },
     "execution_count": 148,
     "metadata": {},
     "output_type": "execute_result"
    }
   ],
   "source": [
    "df.isna().sum() #print the sum of null values for each columns"
   ]
  },
  {
   "cell_type": "markdown",
   "id": "1a7f6017",
   "metadata": {},
   "source": [
    "Selected dataframe has 16 columns. There are 14 columns that have missing values."
   ]
  },
  {
   "cell_type": "markdown",
   "id": "cec960b7",
   "metadata": {},
   "source": [
    "# Calculate total missing values and their percentage"
   ]
  },
  {
   "cell_type": "code",
   "execution_count": 149,
   "id": "d1eb9014",
   "metadata": {},
   "outputs": [
    {
     "data": {
      "text/plain": [
       "Xylene     18109\n",
       "PM10       11140\n",
       "NH3        10328\n",
       "Toluene     8041\n",
       "Benzene     5623\n",
       "dtype: int64"
      ]
     },
     "execution_count": 149,
     "metadata": {},
     "output_type": "execute_result"
    }
   ],
   "source": [
    "total = df.isnull().sum().sort_values(ascending=False) \n",
    "total.head()"
   ]
  },
  {
   "cell_type": "markdown",
   "id": "7764e680",
   "metadata": {},
   "source": [
    "Calculate the percent of null values for each columns (sum of null values / total non-null value) *100"
   ]
  },
  {
   "cell_type": "code",
   "execution_count": 150,
   "id": "2e4b8fb7",
   "metadata": {},
   "outputs": [
    {
     "data": {
      "text/html": [
       "<div>\n",
       "<style scoped>\n",
       "    .dataframe tbody tr th:only-of-type {\n",
       "        vertical-align: middle;\n",
       "    }\n",
       "\n",
       "    .dataframe tbody tr th {\n",
       "        vertical-align: top;\n",
       "    }\n",
       "\n",
       "    .dataframe thead th {\n",
       "        text-align: right;\n",
       "    }\n",
       "</style>\n",
       "<table border=\"1\" class=\"dataframe\">\n",
       "  <thead>\n",
       "    <tr style=\"text-align: right;\">\n",
       "      <th></th>\n",
       "      <th>Total</th>\n",
       "      <th>Percent</th>\n",
       "    </tr>\n",
       "  </thead>\n",
       "  <tbody>\n",
       "    <tr>\n",
       "      <th>Xylene</th>\n",
       "      <td>18109</td>\n",
       "      <td>61.322001</td>\n",
       "    </tr>\n",
       "    <tr>\n",
       "      <th>PM10</th>\n",
       "      <td>11140</td>\n",
       "      <td>37.723071</td>\n",
       "    </tr>\n",
       "    <tr>\n",
       "      <th>NH3</th>\n",
       "      <td>10328</td>\n",
       "      <td>34.973418</td>\n",
       "    </tr>\n",
       "    <tr>\n",
       "      <th>Toluene</th>\n",
       "      <td>8041</td>\n",
       "      <td>27.229014</td>\n",
       "    </tr>\n",
       "    <tr>\n",
       "      <th>Benzene</th>\n",
       "      <td>5623</td>\n",
       "      <td>19.041008</td>\n",
       "    </tr>\n",
       "  </tbody>\n",
       "</table>\n",
       "</div>"
      ],
      "text/plain": [
       "         Total    Percent\n",
       "Xylene   18109  61.322001\n",
       "PM10     11140  37.723071\n",
       "NH3      10328  34.973418\n",
       "Toluene   8041  27.229014\n",
       "Benzene   5623  19.041008"
      ]
     },
     "execution_count": 150,
     "metadata": {},
     "output_type": "execute_result"
    }
   ],
   "source": [
    "percent = (df.isnull().sum()/df.isnull().count()*100).sort_values(ascending=False)  #count(returns Non-NAN value)\n",
    "missing_data = pd.concat([total, percent], axis=1, keys=['Total', 'Percent'])\n",
    "missing_data.head()"
   ]
  },
  {
   "cell_type": "markdown",
   "id": "ed390f10",
   "metadata": {},
   "source": [
    "Percent of missing value (bar plot)"
   ]
  },
  {
   "cell_type": "code",
   "execution_count": 151,
   "id": "83c1f0b1",
   "metadata": {},
   "outputs": [
    {
     "data": {
      "image/png": "[encoded data removed]",
      "text/plain": [
       "<Figure size 720x432 with 1 Axes>"
      ]
     },
     "metadata": {
      "needs_background": "light"
     },
     "output_type": "display_data"
    }
   ],
   "source": [
    "plt.figure(figsize=(10,6))\n",
    "sns.barplot(x=missing_data.index, y=missing_data['Percent'])\n",
    "plt.xlabel('Features', fontsize=20)\n",
    "plt.ylabel('Percent of missing values', fontsize=20)\n",
    "plt.title('Percent missing data by feature', fontsize=20)\n",
    "plt.xticks(rotation=90)\n",
    "plt.show()"
   ]
  },
  {
   "cell_type": "markdown",
   "id": "00443f2e",
   "metadata": {},
   "source": [
    "Handling Missing Values"
   ]
  },
  {
   "cell_type": "markdown",
   "id": "5e9c6360",
   "metadata": {},
   "source": [
    "The column such as PM2.5', 'PM10', 'NO', 'NO2', 'NOx', 'NH3', 'CO', 'SO2','O3', 'Benzene', 'Toluene', 'Xylene', 'AQI', are the ones which contribute much to our analysis. So, we need to remove null from those columns to avoid inaccuracy in the prediction. We use the Imputer from sklearn.preprocessing to fill the missing values in every column with the mean."
   ]
  },
  {
   "cell_type": "code",
   "execution_count": 152,
   "id": "4dc9bd4f",
   "metadata": {},
   "outputs": [],
   "source": [
    "# defining columns of importance, which shall be used reguarly\n",
    "COLS = ['PM2.5', 'PM10', 'NO', 'NO2', 'NOx', 'NH3', 'CO', 'SO2','O3', 'Benzene', 'Toluene', 'Xylene', 'AQI']"
   ]
  },
  {
   "cell_type": "code",
   "execution_count": 153,
   "id": "802be845",
   "metadata": {},
   "outputs": [],
   "source": [
    "from sklearn.impute import SimpleImputer\n",
    "# invoking SimpleImputer to fill missing values\n",
    "imputer = SimpleImputer(missing_values=np.nan, strategy='mean')\n",
    "df[COLS] = imputer.fit_transform(df[COLS])"
   ]
  },
  {
   "cell_type": "code",
   "execution_count": 154,
   "id": "de03b023",
   "metadata": {},
   "outputs": [
    {
     "data": {
      "text/plain": [
       "0                Poor\n",
       "1                Poor\n",
       "2                Poor\n",
       "3                Poor\n",
       "4                Poor\n",
       "             ...     \n",
       "29526            Good\n",
       "29527    Satisfactory\n",
       "29528    Satisfactory\n",
       "29529    Satisfactory\n",
       "29530            Good\n",
       "Name: AQI_Bucket, Length: 29531, dtype: object"
      ]
     },
     "execution_count": 154,
     "metadata": {},
     "output_type": "execute_result"
    }
   ],
   "source": [
    "#Inputing AQI_Bucket value\n",
    "df.fillna(method='bfill',inplace=True)\n",
    "df['AQI_Bucket'] "
   ]
  },
  {
   "cell_type": "code",
   "execution_count": 155,
   "id": "9ed4e4c4",
   "metadata": {},
   "outputs": [
    {
     "name": "stdout",
     "output_type": "stream",
     "text": [
      "City          0\n",
      "Date          0\n",
      "PM2.5         0\n",
      "PM10          0\n",
      "NO            0\n",
      "NO2           0\n",
      "NOx           0\n",
      "NH3           0\n",
      "CO            0\n",
      "SO2           0\n",
      "O3            0\n",
      "Benzene       0\n",
      "Toluene       0\n",
      "Xylene        0\n",
      "AQI           0\n",
      "AQI_Bucket    0\n",
      "dtype: int64\n"
     ]
    }
   ],
   "source": [
    "# checking to see if the dataset has any missing values left over and the format\n",
    "print(df.isnull().sum())"
   ]
  },
  {
   "cell_type": "markdown",
   "id": "51cb7fbe",
   "metadata": {},
   "source": [
    "All the missing values are filled in."
   ]
  },
  {
   "cell_type": "markdown",
   "id": "eed174f8",
   "metadata": {},
   "source": [
    "# Outlier Detection and Handling"
   ]
  },
  {
   "cell_type": "code",
   "execution_count": 156,
   "id": "870f1a76",
   "metadata": {},
   "outputs": [
    {
     "data": {
      "image/png": "[encoded data removed]",
      "text/plain": [
       "<Figure size 432x288 with 1 Axes>"
      ]
     },
     "metadata": {
      "needs_background": "light"
     },
     "output_type": "display_data"
    }
   ],
   "source": [
    "df1 = df[['PM2.5', 'PM10', 'NO', 'NO2', 'NOx', 'NH3', 'CO', 'SO2','O3', 'Benzene', 'Toluene', 'Xylene', 'AQI']]\n",
    "ax = sns.boxplot(data=df1, orient=\"h\", palette=\"Set2\")"
   ]
  },
  {
   "cell_type": "code",
   "execution_count": 157,
   "id": "5a978896",
   "metadata": {},
   "outputs": [],
   "source": [
    "for features in df.columns[2:-3]:\n",
    "    OF_Q1 = df[features].quantile(0.25) \n",
    "    OF_Q2 = df[features].quantile(0.50)\n",
    "    OF_Q3 = df[features].quantile(0.75) \n",
    "    OF_IQR = OF_Q3-OF_Q1\n",
    "    OF_low_limit = OF_Q1-1.5*OF_IQR\n",
    "    OF_up_limit = OF_Q3+1.5*OF_IQR\n",
    "    OF_outlier= df[(df[features] < OF_low_limit ) | (df[features] > OF_up_limit )]\n",
    "    df[features] = df[features].clip(OF_up_limit,OF_low_limit)\n",
    "        "
   ]
  },
  {
   "cell_type": "code",
   "execution_count": 158,
   "id": "29d1b3ab",
   "metadata": {},
   "outputs": [
    {
     "data": {
      "image/png": "[encoded data removed]",
      "text/plain": [
       "<Figure size 432x288 with 1 Axes>"
      ]
     },
     "metadata": {
      "needs_background": "light"
     },
     "output_type": "display_data"
    }
   ],
   "source": [
    "df1 = df[['PM2.5', 'PM10', 'NO', 'NO2', 'NOx', 'NH3', 'CO', 'SO2','O3', 'Benzene', 'Toluene', 'Xylene', 'AQI']]\n",
    "ax = sns.boxplot(data=df1, orient=\"h\", palette=\"Set2\")"
   ]
  },
  {
   "cell_type": "markdown",
   "id": "b16769b5",
   "metadata": {},
   "source": [
    "As in figure, AQI and Xylene are still with Outlier Values. So we are performing Outlier Handling for AQI and Xylene."
   ]
  },
  {
   "cell_type": "markdown",
   "id": "0f447696",
   "metadata": {},
   "source": [
    "AQI"
   ]
  },
  {
   "cell_type": "markdown",
   "id": "6ba9439a",
   "metadata": {},
   "source": [
    "Finding Q1,Q2 and Q3"
   ]
  },
  {
   "cell_type": "code",
   "execution_count": 159,
   "id": "a9faaa4a",
   "metadata": {},
   "outputs": [],
   "source": [
    "Q_1=df['AQI'].quantile(0.25)\n",
    "Q_2=df['AQI'].quantile(0.50)\n",
    "Q_3=df['AQI'].quantile(0.75)"
   ]
  },
  {
   "cell_type": "code",
   "execution_count": 160,
   "id": "4c1dc4d1",
   "metadata": {},
   "outputs": [
    {
     "name": "stdout",
     "output_type": "stream",
     "text": [
      "Q1= 88.0\n",
      "Q2= 138.0\n",
      "Q3= 179.0\n"
     ]
    }
   ],
   "source": [
    "print(\"Q1=\",Q_1)\n",
    "print(\"Q2=\",Q_2)\n",
    "print(\"Q3=\",Q_3)"
   ]
  },
  {
   "cell_type": "markdown",
   "id": "5d31e4df",
   "metadata": {},
   "source": [
    "Finding InterQuartile Range"
   ]
  },
  {
   "cell_type": "code",
   "execution_count": 161,
   "id": "7e735139",
   "metadata": {},
   "outputs": [
    {
     "data": {
      "text/plain": [
       "91.0"
      ]
     },
     "execution_count": 161,
     "metadata": {},
     "output_type": "execute_result"
    }
   ],
   "source": [
    "Iqr=Q_3-Q_1\n",
    "Iqr"
   ]
  },
  {
   "cell_type": "markdown",
   "id": "0abdc3f4",
   "metadata": {},
   "source": [
    "Finding Lower Limit"
   ]
  },
  {
   "cell_type": "code",
   "execution_count": 162,
   "id": "847a9139",
   "metadata": {},
   "outputs": [
    {
     "data": {
      "text/plain": [
       "-48.5"
      ]
     },
     "execution_count": 162,
     "metadata": {},
     "output_type": "execute_result"
    }
   ],
   "source": [
    "lowlimit = Q_1-1.5*Iqr\n",
    "lowlimit"
   ]
  },
  {
   "cell_type": "markdown",
   "id": "2717802f",
   "metadata": {},
   "source": [
    "Finding Upper Limit\n"
   ]
  },
  {
   "cell_type": "code",
   "execution_count": 163,
   "id": "ce175be0",
   "metadata": {},
   "outputs": [
    {
     "data": {
      "text/plain": [
       "315.5"
      ]
     },
     "execution_count": 163,
     "metadata": {},
     "output_type": "execute_result"
    }
   ],
   "source": [
    "uplimit = Q_3+1.5*Iqr\n",
    "uplimit"
   ]
  },
  {
   "cell_type": "markdown",
   "id": "e5fe9a98",
   "metadata": {},
   "source": [
    "Finding Outlier Data"
   ]
  },
  {
   "cell_type": "code",
   "execution_count": 164,
   "id": "f3e70329",
   "metadata": {},
   "outputs": [
    {
     "data": {
      "text/html": [
       "<div>\n",
       "<style scoped>\n",
       "    .dataframe tbody tr th:only-of-type {\n",
       "        vertical-align: middle;\n",
       "    }\n",
       "\n",
       "    .dataframe tbody tr th {\n",
       "        vertical-align: top;\n",
       "    }\n",
       "\n",
       "    .dataframe thead th {\n",
       "        text-align: right;\n",
       "    }\n",
       "</style>\n",
       "<table border=\"1\" class=\"dataframe\">\n",
       "  <thead>\n",
       "    <tr style=\"text-align: right;\">\n",
       "      <th></th>\n",
       "      <th>City</th>\n",
       "      <th>Date</th>\n",
       "      <th>PM2.5</th>\n",
       "      <th>PM10</th>\n",
       "      <th>NO</th>\n",
       "      <th>NO2</th>\n",
       "      <th>NOx</th>\n",
       "      <th>NH3</th>\n",
       "      <th>CO</th>\n",
       "      <th>SO2</th>\n",
       "      <th>O3</th>\n",
       "      <th>Benzene</th>\n",
       "      <th>Toluene</th>\n",
       "      <th>Xylene</th>\n",
       "      <th>AQI</th>\n",
       "      <th>AQI_Bucket</th>\n",
       "    </tr>\n",
       "  </thead>\n",
       "  <tbody>\n",
       "    <tr>\n",
       "      <th>29</th>\n",
       "      <td>Ahmedabad</td>\n",
       "      <td>2015-01-30</td>\n",
       "      <td>79.84</td>\n",
       "      <td>118.127103</td>\n",
       "      <td>13.850000</td>\n",
       "      <td>28.6800</td>\n",
       "      <td>41.0800</td>\n",
       "      <td>23.483476</td>\n",
       "      <td>3.465</td>\n",
       "      <td>27.194943</td>\n",
       "      <td>75.715</td>\n",
       "      <td>0.040000</td>\n",
       "      <td>0.00</td>\n",
       "      <td>4.81</td>\n",
       "      <td>328.0</td>\n",
       "      <td>Very Poor</td>\n",
       "    </tr>\n",
       "    <tr>\n",
       "      <th>30</th>\n",
       "      <td>Ahmedabad</td>\n",
       "      <td>2015-01-31</td>\n",
       "      <td>94.52</td>\n",
       "      <td>118.127103</td>\n",
       "      <td>24.390000</td>\n",
       "      <td>32.6600</td>\n",
       "      <td>52.6100</td>\n",
       "      <td>23.483476</td>\n",
       "      <td>3.465</td>\n",
       "      <td>27.194943</td>\n",
       "      <td>75.715</td>\n",
       "      <td>0.240000</td>\n",
       "      <td>0.01</td>\n",
       "      <td>7.67</td>\n",
       "      <td>514.0</td>\n",
       "      <td>Severe</td>\n",
       "    </tr>\n",
       "    <tr>\n",
       "      <th>31</th>\n",
       "      <td>Ahmedabad</td>\n",
       "      <td>2015-02-01</td>\n",
       "      <td>132.90</td>\n",
       "      <td>118.127103</td>\n",
       "      <td>34.621824</td>\n",
       "      <td>42.0800</td>\n",
       "      <td>68.0325</td>\n",
       "      <td>23.483476</td>\n",
       "      <td>3.465</td>\n",
       "      <td>27.194943</td>\n",
       "      <td>75.715</td>\n",
       "      <td>0.400000</td>\n",
       "      <td>0.04</td>\n",
       "      <td>25.87</td>\n",
       "      <td>782.0</td>\n",
       "      <td>Severe</td>\n",
       "    </tr>\n",
       "    <tr>\n",
       "      <th>32</th>\n",
       "      <td>Ahmedabad</td>\n",
       "      <td>2015-02-02</td>\n",
       "      <td>132.90</td>\n",
       "      <td>118.127103</td>\n",
       "      <td>34.621824</td>\n",
       "      <td>35.3100</td>\n",
       "      <td>68.0325</td>\n",
       "      <td>23.483476</td>\n",
       "      <td>3.465</td>\n",
       "      <td>27.194943</td>\n",
       "      <td>75.715</td>\n",
       "      <td>0.460000</td>\n",
       "      <td>0.06</td>\n",
       "      <td>35.61</td>\n",
       "      <td>914.0</td>\n",
       "      <td>Severe</td>\n",
       "    </tr>\n",
       "    <tr>\n",
       "      <th>33</th>\n",
       "      <td>Ahmedabad</td>\n",
       "      <td>2015-02-03</td>\n",
       "      <td>132.90</td>\n",
       "      <td>118.127103</td>\n",
       "      <td>30.610000</td>\n",
       "      <td>28.4000</td>\n",
       "      <td>56.7300</td>\n",
       "      <td>23.483476</td>\n",
       "      <td>3.465</td>\n",
       "      <td>27.194943</td>\n",
       "      <td>73.600</td>\n",
       "      <td>0.170000</td>\n",
       "      <td>0.03</td>\n",
       "      <td>11.87</td>\n",
       "      <td>660.0</td>\n",
       "      <td>Severe</td>\n",
       "    </tr>\n",
       "    <tr>\n",
       "      <th>...</th>\n",
       "      <td>...</td>\n",
       "      <td>...</td>\n",
       "      <td>...</td>\n",
       "      <td>...</td>\n",
       "      <td>...</td>\n",
       "      <td>...</td>\n",
       "      <td>...</td>\n",
       "      <td>...</td>\n",
       "      <td>...</td>\n",
       "      <td>...</td>\n",
       "      <td>...</td>\n",
       "      <td>...</td>\n",
       "      <td>...</td>\n",
       "      <td>...</td>\n",
       "      <td>...</td>\n",
       "      <td>...</td>\n",
       "    </tr>\n",
       "    <tr>\n",
       "      <th>28929</th>\n",
       "      <td>Visakhapatnam</td>\n",
       "      <td>2018-11-08</td>\n",
       "      <td>132.90</td>\n",
       "      <td>176.345257</td>\n",
       "      <td>25.580000</td>\n",
       "      <td>41.6300</td>\n",
       "      <td>42.9500</td>\n",
       "      <td>10.070000</td>\n",
       "      <td>0.730</td>\n",
       "      <td>19.320000</td>\n",
       "      <td>43.180</td>\n",
       "      <td>5.240000</td>\n",
       "      <td>11.26</td>\n",
       "      <td>4.25</td>\n",
       "      <td>387.0</td>\n",
       "      <td>Very Poor</td>\n",
       "    </tr>\n",
       "    <tr>\n",
       "      <th>28985</th>\n",
       "      <td>Visakhapatnam</td>\n",
       "      <td>2019-01-03</td>\n",
       "      <td>132.90</td>\n",
       "      <td>176.345257</td>\n",
       "      <td>25.440000</td>\n",
       "      <td>67.1925</td>\n",
       "      <td>68.0325</td>\n",
       "      <td>16.960000</td>\n",
       "      <td>1.380</td>\n",
       "      <td>27.194943</td>\n",
       "      <td>75.715</td>\n",
       "      <td>5.720000</td>\n",
       "      <td>9.61</td>\n",
       "      <td>4.75</td>\n",
       "      <td>319.0</td>\n",
       "      <td>Very Poor</td>\n",
       "    </tr>\n",
       "    <tr>\n",
       "      <th>28991</th>\n",
       "      <td>Visakhapatnam</td>\n",
       "      <td>2019-01-09</td>\n",
       "      <td>132.90</td>\n",
       "      <td>176.345257</td>\n",
       "      <td>29.950000</td>\n",
       "      <td>67.1925</td>\n",
       "      <td>68.0325</td>\n",
       "      <td>15.990000</td>\n",
       "      <td>1.400</td>\n",
       "      <td>21.050000</td>\n",
       "      <td>75.715</td>\n",
       "      <td>5.140000</td>\n",
       "      <td>7.97</td>\n",
       "      <td>3.39</td>\n",
       "      <td>320.0</td>\n",
       "      <td>Very Poor</td>\n",
       "    </tr>\n",
       "    <tr>\n",
       "      <th>28996</th>\n",
       "      <td>Visakhapatnam</td>\n",
       "      <td>2019-01-14</td>\n",
       "      <td>132.90</td>\n",
       "      <td>176.345257</td>\n",
       "      <td>20.250000</td>\n",
       "      <td>67.1925</td>\n",
       "      <td>59.2200</td>\n",
       "      <td>16.240000</td>\n",
       "      <td>1.710</td>\n",
       "      <td>27.194943</td>\n",
       "      <td>75.715</td>\n",
       "      <td>5.910000</td>\n",
       "      <td>8.06</td>\n",
       "      <td>3.12</td>\n",
       "      <td>343.0</td>\n",
       "      <td>Very Poor</td>\n",
       "    </tr>\n",
       "    <tr>\n",
       "      <th>29361</th>\n",
       "      <td>Visakhapatnam</td>\n",
       "      <td>2020-01-14</td>\n",
       "      <td>132.90</td>\n",
       "      <td>176.345257</td>\n",
       "      <td>34.621824</td>\n",
       "      <td>67.1925</td>\n",
       "      <td>68.0325</td>\n",
       "      <td>22.010000</td>\n",
       "      <td>2.080</td>\n",
       "      <td>16.450000</td>\n",
       "      <td>44.070</td>\n",
       "      <td>7.842101</td>\n",
       "      <td>15.42</td>\n",
       "      <td>7.65</td>\n",
       "      <td>326.0</td>\n",
       "      <td>Very Poor</td>\n",
       "    </tr>\n",
       "  </tbody>\n",
       "</table>\n",
       "<p>3192 rows × 16 columns</p>\n",
       "</div>"
      ],
      "text/plain": [
       "                City        Date   PM2.5        PM10         NO      NO2  \\\n",
       "29         Ahmedabad  2015-01-30   79.84  118.127103  13.850000  28.6800   \n",
       "30         Ahmedabad  2015-01-31   94.52  118.127103  24.390000  32.6600   \n",
       "31         Ahmedabad  2015-02-01  132.90  118.127103  34.621824  42.0800   \n",
       "32         Ahmedabad  2015-02-02  132.90  118.127103  34.621824  35.3100   \n",
       "33         Ahmedabad  2015-02-03  132.90  118.127103  30.610000  28.4000   \n",
       "...              ...         ...     ...         ...        ...      ...   \n",
       "28929  Visakhapatnam  2018-11-08  132.90  176.345257  25.580000  41.6300   \n",
       "28985  Visakhapatnam  2019-01-03  132.90  176.345257  25.440000  67.1925   \n",
       "28991  Visakhapatnam  2019-01-09  132.90  176.345257  29.950000  67.1925   \n",
       "28996  Visakhapatnam  2019-01-14  132.90  176.345257  20.250000  67.1925   \n",
       "29361  Visakhapatnam  2020-01-14  132.90  176.345257  34.621824  67.1925   \n",
       "\n",
       "           NOx        NH3     CO        SO2      O3   Benzene  Toluene  \\\n",
       "29     41.0800  23.483476  3.465  27.194943  75.715  0.040000     0.00   \n",
       "30     52.6100  23.483476  3.465  27.194943  75.715  0.240000     0.01   \n",
       "31     68.0325  23.483476  3.465  27.194943  75.715  0.400000     0.04   \n",
       "32     68.0325  23.483476  3.465  27.194943  75.715  0.460000     0.06   \n",
       "33     56.7300  23.483476  3.465  27.194943  73.600  0.170000     0.03   \n",
       "...        ...        ...    ...        ...     ...       ...      ...   \n",
       "28929  42.9500  10.070000  0.730  19.320000  43.180  5.240000    11.26   \n",
       "28985  68.0325  16.960000  1.380  27.194943  75.715  5.720000     9.61   \n",
       "28991  68.0325  15.990000  1.400  21.050000  75.715  5.140000     7.97   \n",
       "28996  59.2200  16.240000  1.710  27.194943  75.715  5.910000     8.06   \n",
       "29361  68.0325  22.010000  2.080  16.450000  44.070  7.842101    15.42   \n",
       "\n",
       "       Xylene    AQI AQI_Bucket  \n",
       "29       4.81  328.0  Very Poor  \n",
       "30       7.67  514.0     Severe  \n",
       "31      25.87  782.0     Severe  \n",
       "32      35.61  914.0     Severe  \n",
       "33      11.87  660.0     Severe  \n",
       "...       ...    ...        ...  \n",
       "28929    4.25  387.0  Very Poor  \n",
       "28985    4.75  319.0  Very Poor  \n",
       "28991    3.39  320.0  Very Poor  \n",
       "28996    3.12  343.0  Very Poor  \n",
       "29361    7.65  326.0  Very Poor  \n",
       "\n",
       "[3192 rows x 16 columns]"
      ]
     },
     "execution_count": 164,
     "metadata": {},
     "output_type": "execute_result"
    }
   ],
   "source": [
    "AQI_outlier= df[(df['AQI'] < lowlimit ) | (df['AQI'] > uplimit )]\n",
    "AQI_outlier"
   ]
  },
  {
   "cell_type": "markdown",
   "id": "95f879f8",
   "metadata": {},
   "source": [
    "Removing AQI Outlier"
   ]
  },
  {
   "cell_type": "code",
   "execution_count": 165,
   "id": "ea462882",
   "metadata": {},
   "outputs": [],
   "source": [
    "df['AQI'] = df['AQI'].clip(uplimit,lowlimit)"
   ]
  },
  {
   "cell_type": "markdown",
   "id": "07582605",
   "metadata": {},
   "source": [
    "Xylene"
   ]
  },
  {
   "cell_type": "markdown",
   "id": "e7faba62",
   "metadata": {},
   "source": [
    "Finding Q1,Q2 and Q3 For Xylene"
   ]
  },
  {
   "cell_type": "code",
   "execution_count": 166,
   "id": "8eca0fa4",
   "metadata": {},
   "outputs": [
    {
     "name": "stdout",
     "output_type": "stream",
     "text": [
      "Q1= 2.0\n",
      "Q2= 3.0701278234985114\n",
      "Q3= 3.0701278234985114\n"
     ]
    }
   ],
   "source": [
    "Q1=df['Xylene'].quantile(0.25)\n",
    "Q2=df['Xylene'].quantile(0.50)\n",
    "Q3=df['Xylene'].quantile(0.75)\n",
    "print(\"Q1=\",Q1)\n",
    "print(\"Q2=\",Q2)\n",
    "print(\"Q3=\",Q3)"
   ]
  },
  {
   "cell_type": "markdown",
   "id": "a95462c9",
   "metadata": {},
   "source": [
    "Finding the Interquartile Range for Xylene"
   ]
  },
  {
   "cell_type": "code",
   "execution_count": 167,
   "id": "513c74e5",
   "metadata": {},
   "outputs": [
    {
     "data": {
      "text/plain": [
       "1.0701278234985114"
      ]
     },
     "execution_count": 167,
     "metadata": {},
     "output_type": "execute_result"
    }
   ],
   "source": [
    "XIQR = Q3-Q1\n",
    "XIQR"
   ]
  },
  {
   "cell_type": "markdown",
   "id": "c9645d70",
   "metadata": {},
   "source": [
    "Finding lower Limit for Xylene"
   ]
  },
  {
   "cell_type": "code",
   "execution_count": 168,
   "id": "5f6ae155",
   "metadata": {},
   "outputs": [
    {
     "data": {
      "text/plain": [
       "0.39480826475223285"
      ]
     },
     "execution_count": 168,
     "metadata": {},
     "output_type": "execute_result"
    }
   ],
   "source": [
    "lowerlimit = Q1-1.5*XIQR\n",
    "lowerlimit"
   ]
  },
  {
   "cell_type": "markdown",
   "id": "ed62903d",
   "metadata": {},
   "source": [
    "Finding Upper Limit for Xylene"
   ]
  },
  {
   "cell_type": "code",
   "execution_count": 169,
   "id": "24e7ec90",
   "metadata": {},
   "outputs": [
    {
     "data": {
      "text/plain": [
       "4.675319558746279"
      ]
     },
     "execution_count": 169,
     "metadata": {},
     "output_type": "execute_result"
    }
   ],
   "source": [
    "upperlimit = Q3+1.5*XIQR\n",
    "upperlimit"
   ]
  },
  {
   "cell_type": "markdown",
   "id": "f5d474d5",
   "metadata": {},
   "source": [
    "Finding Outlier Data For Xylene"
   ]
  },
  {
   "cell_type": "code",
   "execution_count": 170,
   "id": "6bcf1553",
   "metadata": {},
   "outputs": [
    {
     "data": {
      "text/html": [
       "<div>\n",
       "<style scoped>\n",
       "    .dataframe tbody tr th:only-of-type {\n",
       "        vertical-align: middle;\n",
       "    }\n",
       "\n",
       "    .dataframe tbody tr th {\n",
       "        vertical-align: top;\n",
       "    }\n",
       "\n",
       "    .dataframe thead th {\n",
       "        text-align: right;\n",
       "    }\n",
       "</style>\n",
       "<table border=\"1\" class=\"dataframe\">\n",
       "  <thead>\n",
       "    <tr style=\"text-align: right;\">\n",
       "      <th></th>\n",
       "      <th>City</th>\n",
       "      <th>Date</th>\n",
       "      <th>PM2.5</th>\n",
       "      <th>PM10</th>\n",
       "      <th>NO</th>\n",
       "      <th>NO2</th>\n",
       "      <th>NOx</th>\n",
       "      <th>NH3</th>\n",
       "      <th>CO</th>\n",
       "      <th>SO2</th>\n",
       "      <th>O3</th>\n",
       "      <th>Benzene</th>\n",
       "      <th>Toluene</th>\n",
       "      <th>Xylene</th>\n",
       "      <th>AQI</th>\n",
       "      <th>AQI_Bucket</th>\n",
       "    </tr>\n",
       "  </thead>\n",
       "  <tbody>\n",
       "    <tr>\n",
       "      <th>0</th>\n",
       "      <td>Ahmedabad</td>\n",
       "      <td>2015-01-01</td>\n",
       "      <td>67.450578</td>\n",
       "      <td>118.127103</td>\n",
       "      <td>0.920000</td>\n",
       "      <td>18.22</td>\n",
       "      <td>17.1500</td>\n",
       "      <td>23.483476</td>\n",
       "      <td>0.920000</td>\n",
       "      <td>27.194943</td>\n",
       "      <td>75.715</td>\n",
       "      <td>0.00</td>\n",
       "      <td>0.02</td>\n",
       "      <td>0.00</td>\n",
       "      <td>166.463581</td>\n",
       "      <td>Poor</td>\n",
       "    </tr>\n",
       "    <tr>\n",
       "      <th>6</th>\n",
       "      <td>Ahmedabad</td>\n",
       "      <td>2015-01-07</td>\n",
       "      <td>67.450578</td>\n",
       "      <td>118.127103</td>\n",
       "      <td>34.621824</td>\n",
       "      <td>40.62</td>\n",
       "      <td>68.0325</td>\n",
       "      <td>23.483476</td>\n",
       "      <td>3.465000</td>\n",
       "      <td>27.194943</td>\n",
       "      <td>33.470</td>\n",
       "      <td>0.00</td>\n",
       "      <td>0.00</td>\n",
       "      <td>0.00</td>\n",
       "      <td>166.463581</td>\n",
       "      <td>Poor</td>\n",
       "    </tr>\n",
       "    <tr>\n",
       "      <th>7</th>\n",
       "      <td>Ahmedabad</td>\n",
       "      <td>2015-01-08</td>\n",
       "      <td>67.450578</td>\n",
       "      <td>118.127103</td>\n",
       "      <td>34.621824</td>\n",
       "      <td>36.74</td>\n",
       "      <td>68.0325</td>\n",
       "      <td>23.483476</td>\n",
       "      <td>3.465000</td>\n",
       "      <td>27.194943</td>\n",
       "      <td>31.890</td>\n",
       "      <td>0.00</td>\n",
       "      <td>0.00</td>\n",
       "      <td>0.00</td>\n",
       "      <td>166.463581</td>\n",
       "      <td>Poor</td>\n",
       "    </tr>\n",
       "    <tr>\n",
       "      <th>8</th>\n",
       "      <td>Ahmedabad</td>\n",
       "      <td>2015-01-09</td>\n",
       "      <td>67.450578</td>\n",
       "      <td>118.127103</td>\n",
       "      <td>29.160000</td>\n",
       "      <td>31.00</td>\n",
       "      <td>48.0000</td>\n",
       "      <td>23.483476</td>\n",
       "      <td>3.465000</td>\n",
       "      <td>27.194943</td>\n",
       "      <td>25.750</td>\n",
       "      <td>0.00</td>\n",
       "      <td>0.00</td>\n",
       "      <td>0.00</td>\n",
       "      <td>166.463581</td>\n",
       "      <td>Poor</td>\n",
       "    </tr>\n",
       "    <tr>\n",
       "      <th>9</th>\n",
       "      <td>Ahmedabad</td>\n",
       "      <td>2015-01-10</td>\n",
       "      <td>67.450578</td>\n",
       "      <td>118.127103</td>\n",
       "      <td>17.574730</td>\n",
       "      <td>7.04</td>\n",
       "      <td>0.0000</td>\n",
       "      <td>23.483476</td>\n",
       "      <td>2.248598</td>\n",
       "      <td>8.290000</td>\n",
       "      <td>4.550</td>\n",
       "      <td>0.00</td>\n",
       "      <td>0.00</td>\n",
       "      <td>0.00</td>\n",
       "      <td>166.463581</td>\n",
       "      <td>Poor</td>\n",
       "    </tr>\n",
       "    <tr>\n",
       "      <th>...</th>\n",
       "      <td>...</td>\n",
       "      <td>...</td>\n",
       "      <td>...</td>\n",
       "      <td>...</td>\n",
       "      <td>...</td>\n",
       "      <td>...</td>\n",
       "      <td>...</td>\n",
       "      <td>...</td>\n",
       "      <td>...</td>\n",
       "      <td>...</td>\n",
       "      <td>...</td>\n",
       "      <td>...</td>\n",
       "      <td>...</td>\n",
       "      <td>...</td>\n",
       "      <td>...</td>\n",
       "      <td>...</td>\n",
       "    </tr>\n",
       "    <tr>\n",
       "      <th>29427</th>\n",
       "      <td>Visakhapatnam</td>\n",
       "      <td>2020-03-20</td>\n",
       "      <td>23.970000</td>\n",
       "      <td>67.960000</td>\n",
       "      <td>11.370000</td>\n",
       "      <td>35.13</td>\n",
       "      <td>27.9300</td>\n",
       "      <td>11.380000</td>\n",
       "      <td>0.870000</td>\n",
       "      <td>11.120000</td>\n",
       "      <td>37.460</td>\n",
       "      <td>5.28</td>\n",
       "      <td>12.72</td>\n",
       "      <td>5.73</td>\n",
       "      <td>91.000000</td>\n",
       "      <td>Satisfactory</td>\n",
       "    </tr>\n",
       "    <tr>\n",
       "      <th>29485</th>\n",
       "      <td>Visakhapatnam</td>\n",
       "      <td>2020-05-17</td>\n",
       "      <td>6.300000</td>\n",
       "      <td>21.096846</td>\n",
       "      <td>1.090000</td>\n",
       "      <td>12.21</td>\n",
       "      <td>7.0700</td>\n",
       "      <td>7.400000</td>\n",
       "      <td>0.110000</td>\n",
       "      <td>8.560000</td>\n",
       "      <td>17.140</td>\n",
       "      <td>0.86</td>\n",
       "      <td>6.90</td>\n",
       "      <td>0.29</td>\n",
       "      <td>23.000000</td>\n",
       "      <td>Good</td>\n",
       "    </tr>\n",
       "    <tr>\n",
       "      <th>29527</th>\n",
       "      <td>Visakhapatnam</td>\n",
       "      <td>2020-06-28</td>\n",
       "      <td>24.380000</td>\n",
       "      <td>74.090000</td>\n",
       "      <td>3.420000</td>\n",
       "      <td>26.06</td>\n",
       "      <td>16.5300</td>\n",
       "      <td>11.990000</td>\n",
       "      <td>0.520000</td>\n",
       "      <td>12.720000</td>\n",
       "      <td>30.140</td>\n",
       "      <td>0.74</td>\n",
       "      <td>2.21</td>\n",
       "      <td>0.38</td>\n",
       "      <td>70.000000</td>\n",
       "      <td>Satisfactory</td>\n",
       "    </tr>\n",
       "    <tr>\n",
       "      <th>29528</th>\n",
       "      <td>Visakhapatnam</td>\n",
       "      <td>2020-06-29</td>\n",
       "      <td>22.910000</td>\n",
       "      <td>65.730000</td>\n",
       "      <td>3.450000</td>\n",
       "      <td>29.53</td>\n",
       "      <td>18.3300</td>\n",
       "      <td>10.710000</td>\n",
       "      <td>0.480000</td>\n",
       "      <td>8.420000</td>\n",
       "      <td>30.960</td>\n",
       "      <td>0.01</td>\n",
       "      <td>0.01</td>\n",
       "      <td>0.00</td>\n",
       "      <td>68.000000</td>\n",
       "      <td>Satisfactory</td>\n",
       "    </tr>\n",
       "    <tr>\n",
       "      <th>29529</th>\n",
       "      <td>Visakhapatnam</td>\n",
       "      <td>2020-06-30</td>\n",
       "      <td>16.640000</td>\n",
       "      <td>49.970000</td>\n",
       "      <td>4.050000</td>\n",
       "      <td>29.26</td>\n",
       "      <td>18.8000</td>\n",
       "      <td>10.030000</td>\n",
       "      <td>0.520000</td>\n",
       "      <td>9.840000</td>\n",
       "      <td>28.300</td>\n",
       "      <td>0.00</td>\n",
       "      <td>0.00</td>\n",
       "      <td>0.00</td>\n",
       "      <td>54.000000</td>\n",
       "      <td>Satisfactory</td>\n",
       "    </tr>\n",
       "  </tbody>\n",
       "</table>\n",
       "<p>6148 rows × 16 columns</p>\n",
       "</div>"
      ],
      "text/plain": [
       "                City        Date      PM2.5        PM10         NO    NO2  \\\n",
       "0          Ahmedabad  2015-01-01  67.450578  118.127103   0.920000  18.22   \n",
       "6          Ahmedabad  2015-01-07  67.450578  118.127103  34.621824  40.62   \n",
       "7          Ahmedabad  2015-01-08  67.450578  118.127103  34.621824  36.74   \n",
       "8          Ahmedabad  2015-01-09  67.450578  118.127103  29.160000  31.00   \n",
       "9          Ahmedabad  2015-01-10  67.450578  118.127103  17.574730   7.04   \n",
       "...              ...         ...        ...         ...        ...    ...   \n",
       "29427  Visakhapatnam  2020-03-20  23.970000   67.960000  11.370000  35.13   \n",
       "29485  Visakhapatnam  2020-05-17   6.300000   21.096846   1.090000  12.21   \n",
       "29527  Visakhapatnam  2020-06-28  24.380000   74.090000   3.420000  26.06   \n",
       "29528  Visakhapatnam  2020-06-29  22.910000   65.730000   3.450000  29.53   \n",
       "29529  Visakhapatnam  2020-06-30  16.640000   49.970000   4.050000  29.26   \n",
       "\n",
       "           NOx        NH3        CO        SO2      O3  Benzene  Toluene  \\\n",
       "0      17.1500  23.483476  0.920000  27.194943  75.715     0.00     0.02   \n",
       "6      68.0325  23.483476  3.465000  27.194943  33.470     0.00     0.00   \n",
       "7      68.0325  23.483476  3.465000  27.194943  31.890     0.00     0.00   \n",
       "8      48.0000  23.483476  3.465000  27.194943  25.750     0.00     0.00   \n",
       "9       0.0000  23.483476  2.248598   8.290000   4.550     0.00     0.00   \n",
       "...        ...        ...       ...        ...     ...      ...      ...   \n",
       "29427  27.9300  11.380000  0.870000  11.120000  37.460     5.28    12.72   \n",
       "29485   7.0700   7.400000  0.110000   8.560000  17.140     0.86     6.90   \n",
       "29527  16.5300  11.990000  0.520000  12.720000  30.140     0.74     2.21   \n",
       "29528  18.3300  10.710000  0.480000   8.420000  30.960     0.01     0.01   \n",
       "29529  18.8000  10.030000  0.520000   9.840000  28.300     0.00     0.00   \n",
       "\n",
       "       Xylene         AQI    AQI_Bucket  \n",
       "0        0.00  166.463581          Poor  \n",
       "6        0.00  166.463581          Poor  \n",
       "7        0.00  166.463581          Poor  \n",
       "8        0.00  166.463581          Poor  \n",
       "9        0.00  166.463581          Poor  \n",
       "...       ...         ...           ...  \n",
       "29427    5.73   91.000000  Satisfactory  \n",
       "29485    0.29   23.000000          Good  \n",
       "29527    0.38   70.000000  Satisfactory  \n",
       "29528    0.00   68.000000  Satisfactory  \n",
       "29529    0.00   54.000000  Satisfactory  \n",
       "\n",
       "[6148 rows x 16 columns]"
      ]
     },
     "execution_count": 170,
     "metadata": {},
     "output_type": "execute_result"
    }
   ],
   "source": [
    "Xoutlier= df[(df['Xylene'] < lowerlimit ) | (df['Xylene'] > upperlimit )]\n",
    "Xoutlier"
   ]
  },
  {
   "cell_type": "markdown",
   "id": "0e506115",
   "metadata": {},
   "source": [
    "Removing Xylene Outlier"
   ]
  },
  {
   "cell_type": "code",
   "execution_count": 171,
   "id": "197742d4",
   "metadata": {},
   "outputs": [],
   "source": [
    "df['Xylene'] = df['Xylene'].clip(upperlimit,lowerlimit)"
   ]
  },
  {
   "cell_type": "markdown",
   "id": "45126a27",
   "metadata": {},
   "source": [
    "Rechecking Outliers"
   ]
  },
  {
   "cell_type": "code",
   "execution_count": 172,
   "id": "b89121c5",
   "metadata": {},
   "outputs": [
    {
     "data": {
      "image/png": "[encoded data removed]",
      "text/plain": [
       "<Figure size 432x288 with 1 Axes>"
      ]
     },
     "metadata": {
      "needs_background": "light"
     },
     "output_type": "display_data"
    }
   ],
   "source": [
    "df1 = df[['PM2.5', 'PM10', 'NO', 'NO2', 'NOx', 'NH3', 'CO', 'SO2','O3', 'Benzene', 'Toluene', 'Xylene', 'AQI']]\n",
    "ax = sns.boxplot(data=df1, orient=\"h\", palette=\"Set2\")"
   ]
  },
  {
   "cell_type": "markdown",
   "id": "f9d40072",
   "metadata": {},
   "source": [
    "ALL OUTLIERS ARE REMOVED!!"
   ]
  },
  {
   "cell_type": "markdown",
   "id": "1fac82e1",
   "metadata": {},
   "source": [
    "# Encoding"
   ]
  },
  {
   "cell_type": "raw",
   "id": "96e711b8",
   "metadata": {},
   "source": [
    "Ordinal Data Encoding: Data are in order,Label Encoding is used here\n",
    "Nominal Data Encoding: Data are not in any order,One Hot Encoding is used here"
   ]
  },
  {
   "cell_type": "code",
   "execution_count": 173,
   "id": "b5f837f2",
   "metadata": {},
   "outputs": [
    {
     "data": {
      "text/plain": [
       "Moderate        10295\n",
       "Satisfactory    10237\n",
       "Poor             3248\n",
       "Very Poor        2628\n",
       "Good             1610\n",
       "Severe           1513\n",
       "Name: AQI_Bucket, dtype: int64"
      ]
     },
     "execution_count": 173,
     "metadata": {},
     "output_type": "execute_result"
    }
   ],
   "source": [
    "data=df.copy()\n",
    "df['AQI_Bucket'].value_counts()"
   ]
  },
  {
   "cell_type": "code",
   "execution_count": 174,
   "id": "1e2ef0aa",
   "metadata": {},
   "outputs": [
    {
     "data": {
      "text/plain": [
       "0        3\n",
       "1        3\n",
       "2        3\n",
       "3        3\n",
       "4        3\n",
       "        ..\n",
       "29526    6\n",
       "29527    5\n",
       "29528    5\n",
       "29529    5\n",
       "29530    6\n",
       "Name: AQI_Bucket, Length: 29531, dtype: int64"
      ]
     },
     "execution_count": 174,
     "metadata": {},
     "output_type": "execute_result"
    }
   ],
   "source": [
    "encoding = {'Good':6,'Satisfactory':5,'Moderate':4,'Poor':3,'Very Poor':2,'Severe':1}\n",
    "df['AQI_Bucket'] = df['AQI_Bucket'].replace(encoding)\n",
    "df['AQI_Bucket']"
   ]
  },
  {
   "cell_type": "code",
   "execution_count": 175,
   "id": "3e9a0f26",
   "metadata": {},
   "outputs": [
    {
     "data": {
      "text/html": [
       "<div>\n",
       "<style scoped>\n",
       "    .dataframe tbody tr th:only-of-type {\n",
       "        vertical-align: middle;\n",
       "    }\n",
       "\n",
       "    .dataframe tbody tr th {\n",
       "        vertical-align: top;\n",
       "    }\n",
       "\n",
       "    .dataframe thead th {\n",
       "        text-align: right;\n",
       "    }\n",
       "</style>\n",
       "<table border=\"1\" class=\"dataframe\">\n",
       "  <thead>\n",
       "    <tr style=\"text-align: right;\">\n",
       "      <th></th>\n",
       "      <th>City</th>\n",
       "      <th>Date</th>\n",
       "      <th>PM2.5</th>\n",
       "      <th>PM10</th>\n",
       "      <th>NO</th>\n",
       "      <th>NO2</th>\n",
       "      <th>NOx</th>\n",
       "      <th>NH3</th>\n",
       "      <th>CO</th>\n",
       "      <th>SO2</th>\n",
       "      <th>O3</th>\n",
       "      <th>Benzene</th>\n",
       "      <th>Toluene</th>\n",
       "      <th>Xylene</th>\n",
       "      <th>AQI</th>\n",
       "      <th>AQI_Bucket</th>\n",
       "    </tr>\n",
       "  </thead>\n",
       "  <tbody>\n",
       "    <tr>\n",
       "      <th>0</th>\n",
       "      <td>Ahmedabad</td>\n",
       "      <td>2015-01-01</td>\n",
       "      <td>67.450578</td>\n",
       "      <td>118.127103</td>\n",
       "      <td>0.92</td>\n",
       "      <td>18.22</td>\n",
       "      <td>17.15</td>\n",
       "      <td>23.483476</td>\n",
       "      <td>0.920</td>\n",
       "      <td>27.194943</td>\n",
       "      <td>75.715</td>\n",
       "      <td>0.00</td>\n",
       "      <td>0.02</td>\n",
       "      <td>0.394808</td>\n",
       "      <td>166.463581</td>\n",
       "      <td>3</td>\n",
       "    </tr>\n",
       "    <tr>\n",
       "      <th>1</th>\n",
       "      <td>Ahmedabad</td>\n",
       "      <td>2015-01-02</td>\n",
       "      <td>67.450578</td>\n",
       "      <td>118.127103</td>\n",
       "      <td>0.97</td>\n",
       "      <td>15.69</td>\n",
       "      <td>16.46</td>\n",
       "      <td>23.483476</td>\n",
       "      <td>0.970</td>\n",
       "      <td>24.550000</td>\n",
       "      <td>34.060</td>\n",
       "      <td>3.68</td>\n",
       "      <td>5.50</td>\n",
       "      <td>3.770000</td>\n",
       "      <td>166.463581</td>\n",
       "      <td>3</td>\n",
       "    </tr>\n",
       "    <tr>\n",
       "      <th>2</th>\n",
       "      <td>Ahmedabad</td>\n",
       "      <td>2015-01-03</td>\n",
       "      <td>67.450578</td>\n",
       "      <td>118.127103</td>\n",
       "      <td>17.40</td>\n",
       "      <td>19.30</td>\n",
       "      <td>29.70</td>\n",
       "      <td>23.483476</td>\n",
       "      <td>3.465</td>\n",
       "      <td>27.194943</td>\n",
       "      <td>30.700</td>\n",
       "      <td>6.80</td>\n",
       "      <td>16.40</td>\n",
       "      <td>2.250000</td>\n",
       "      <td>166.463581</td>\n",
       "      <td>3</td>\n",
       "    </tr>\n",
       "    <tr>\n",
       "      <th>3</th>\n",
       "      <td>Ahmedabad</td>\n",
       "      <td>2015-01-04</td>\n",
       "      <td>67.450578</td>\n",
       "      <td>118.127103</td>\n",
       "      <td>1.70</td>\n",
       "      <td>18.48</td>\n",
       "      <td>17.97</td>\n",
       "      <td>23.483476</td>\n",
       "      <td>1.700</td>\n",
       "      <td>18.590000</td>\n",
       "      <td>36.080</td>\n",
       "      <td>4.43</td>\n",
       "      <td>10.14</td>\n",
       "      <td>1.000000</td>\n",
       "      <td>166.463581</td>\n",
       "      <td>3</td>\n",
       "    </tr>\n",
       "    <tr>\n",
       "      <th>4</th>\n",
       "      <td>Ahmedabad</td>\n",
       "      <td>2015-01-05</td>\n",
       "      <td>67.450578</td>\n",
       "      <td>118.127103</td>\n",
       "      <td>22.10</td>\n",
       "      <td>21.42</td>\n",
       "      <td>37.76</td>\n",
       "      <td>23.483476</td>\n",
       "      <td>3.465</td>\n",
       "      <td>27.194943</td>\n",
       "      <td>39.310</td>\n",
       "      <td>7.01</td>\n",
       "      <td>18.89</td>\n",
       "      <td>2.780000</td>\n",
       "      <td>166.463581</td>\n",
       "      <td>3</td>\n",
       "    </tr>\n",
       "  </tbody>\n",
       "</table>\n",
       "</div>"
      ],
      "text/plain": [
       "        City        Date      PM2.5        PM10     NO    NO2    NOx  \\\n",
       "0  Ahmedabad  2015-01-01  67.450578  118.127103   0.92  18.22  17.15   \n",
       "1  Ahmedabad  2015-01-02  67.450578  118.127103   0.97  15.69  16.46   \n",
       "2  Ahmedabad  2015-01-03  67.450578  118.127103  17.40  19.30  29.70   \n",
       "3  Ahmedabad  2015-01-04  67.450578  118.127103   1.70  18.48  17.97   \n",
       "4  Ahmedabad  2015-01-05  67.450578  118.127103  22.10  21.42  37.76   \n",
       "\n",
       "         NH3     CO        SO2      O3  Benzene  Toluene    Xylene  \\\n",
       "0  23.483476  0.920  27.194943  75.715     0.00     0.02  0.394808   \n",
       "1  23.483476  0.970  24.550000  34.060     3.68     5.50  3.770000   \n",
       "2  23.483476  3.465  27.194943  30.700     6.80    16.40  2.250000   \n",
       "3  23.483476  1.700  18.590000  36.080     4.43    10.14  1.000000   \n",
       "4  23.483476  3.465  27.194943  39.310     7.01    18.89  2.780000   \n",
       "\n",
       "          AQI  AQI_Bucket  \n",
       "0  166.463581           3  \n",
       "1  166.463581           3  \n",
       "2  166.463581           3  \n",
       "3  166.463581           3  \n",
       "4  166.463581           3  "
      ]
     },
     "execution_count": 175,
     "metadata": {},
     "output_type": "execute_result"
    }
   ],
   "source": [
    "df.head()"
   ]
  },
  {
   "cell_type": "markdown",
   "id": "6c522f71",
   "metadata": {},
   "source": [
    "# Feature Reduction"
   ]
  },
  {
   "cell_type": "code",
   "execution_count": 176,
   "id": "bb4ddc68",
   "metadata": {},
   "outputs": [
    {
     "data": {
      "text/html": [
       "<div>\n",
       "<style scoped>\n",
       "    .dataframe tbody tr th:only-of-type {\n",
       "        vertical-align: middle;\n",
       "    }\n",
       "\n",
       "    .dataframe tbody tr th {\n",
       "        vertical-align: top;\n",
       "    }\n",
       "\n",
       "    .dataframe thead th {\n",
       "        text-align: right;\n",
       "    }\n",
       "</style>\n",
       "<table border=\"1\" class=\"dataframe\">\n",
       "  <thead>\n",
       "    <tr style=\"text-align: right;\">\n",
       "      <th></th>\n",
       "      <th>PM2.5</th>\n",
       "      <th>PM10</th>\n",
       "      <th>NO</th>\n",
       "      <th>NO2</th>\n",
       "      <th>NOx</th>\n",
       "      <th>NH3</th>\n",
       "      <th>CO</th>\n",
       "      <th>SO2</th>\n",
       "      <th>O3</th>\n",
       "      <th>Benzene</th>\n",
       "      <th>Toluene</th>\n",
       "      <th>Xylene</th>\n",
       "      <th>AQI</th>\n",
       "      <th>AQI_Bucket</th>\n",
       "    </tr>\n",
       "  </thead>\n",
       "  <tbody>\n",
       "    <tr>\n",
       "      <th>PM2.5</th>\n",
       "      <td>1.000000</td>\n",
       "      <td>0.675593</td>\n",
       "      <td>0.445888</td>\n",
       "      <td>0.436076</td>\n",
       "      <td>0.434471</td>\n",
       "      <td>0.338228</td>\n",
       "      <td>0.299084</td>\n",
       "      <td>0.257631</td>\n",
       "      <td>0.208712</td>\n",
       "      <td>0.172375</td>\n",
       "      <td>0.196428</td>\n",
       "      <td>0.050087</td>\n",
       "      <td>0.837849</td>\n",
       "      <td>-0.734617</td>\n",
       "    </tr>\n",
       "    <tr>\n",
       "      <th>PM10</th>\n",
       "      <td>0.675593</td>\n",
       "      <td>1.000000</td>\n",
       "      <td>0.418935</td>\n",
       "      <td>0.421199</td>\n",
       "      <td>0.420906</td>\n",
       "      <td>0.358488</td>\n",
       "      <td>0.244187</td>\n",
       "      <td>0.297238</td>\n",
       "      <td>0.223841</td>\n",
       "      <td>0.178905</td>\n",
       "      <td>0.205240</td>\n",
       "      <td>0.047033</td>\n",
       "      <td>0.644082</td>\n",
       "      <td>-0.574577</td>\n",
       "    </tr>\n",
       "    <tr>\n",
       "      <th>NO</th>\n",
       "      <td>0.445888</td>\n",
       "      <td>0.418935</td>\n",
       "      <td>1.000000</td>\n",
       "      <td>0.508010</td>\n",
       "      <td>0.739788</td>\n",
       "      <td>0.275933</td>\n",
       "      <td>0.276474</td>\n",
       "      <td>0.338338</td>\n",
       "      <td>-0.031839</td>\n",
       "      <td>0.209174</td>\n",
       "      <td>0.222996</td>\n",
       "      <td>0.048554</td>\n",
       "      <td>0.480921</td>\n",
       "      <td>-0.435963</td>\n",
       "    </tr>\n",
       "    <tr>\n",
       "      <th>NO2</th>\n",
       "      <td>0.436076</td>\n",
       "      <td>0.421199</td>\n",
       "      <td>0.508010</td>\n",
       "      <td>1.000000</td>\n",
       "      <td>0.602880</td>\n",
       "      <td>0.361261</td>\n",
       "      <td>0.225996</td>\n",
       "      <td>0.298309</td>\n",
       "      <td>0.308860</td>\n",
       "      <td>0.253733</td>\n",
       "      <td>0.325645</td>\n",
       "      <td>0.054867</td>\n",
       "      <td>0.474620</td>\n",
       "      <td>-0.444236</td>\n",
       "    </tr>\n",
       "    <tr>\n",
       "      <th>NOx</th>\n",
       "      <td>0.434471</td>\n",
       "      <td>0.420906</td>\n",
       "      <td>0.739788</td>\n",
       "      <td>0.602880</td>\n",
       "      <td>1.000000</td>\n",
       "      <td>0.246804</td>\n",
       "      <td>0.272556</td>\n",
       "      <td>0.287530</td>\n",
       "      <td>0.057416</td>\n",
       "      <td>0.249209</td>\n",
       "      <td>0.274576</td>\n",
       "      <td>0.059547</td>\n",
       "      <td>0.471735</td>\n",
       "      <td>-0.419030</td>\n",
       "    </tr>\n",
       "    <tr>\n",
       "      <th>NH3</th>\n",
       "      <td>0.338228</td>\n",
       "      <td>0.358488</td>\n",
       "      <td>0.275933</td>\n",
       "      <td>0.361261</td>\n",
       "      <td>0.246804</td>\n",
       "      <td>1.000000</td>\n",
       "      <td>0.160798</td>\n",
       "      <td>0.060975</td>\n",
       "      <td>0.149557</td>\n",
       "      <td>0.014599</td>\n",
       "      <td>0.055525</td>\n",
       "      <td>-0.035816</td>\n",
       "      <td>0.327011</td>\n",
       "      <td>-0.293535</td>\n",
       "    </tr>\n",
       "    <tr>\n",
       "      <th>CO</th>\n",
       "      <td>0.299084</td>\n",
       "      <td>0.244187</td>\n",
       "      <td>0.276474</td>\n",
       "      <td>0.225996</td>\n",
       "      <td>0.272556</td>\n",
       "      <td>0.160798</td>\n",
       "      <td>1.000000</td>\n",
       "      <td>0.299532</td>\n",
       "      <td>0.040019</td>\n",
       "      <td>0.223971</td>\n",
       "      <td>0.328570</td>\n",
       "      <td>0.166456</td>\n",
       "      <td>0.486975</td>\n",
       "      <td>-0.538321</td>\n",
       "    </tr>\n",
       "    <tr>\n",
       "      <th>SO2</th>\n",
       "      <td>0.257631</td>\n",
       "      <td>0.297238</td>\n",
       "      <td>0.338338</td>\n",
       "      <td>0.298309</td>\n",
       "      <td>0.287530</td>\n",
       "      <td>0.060975</td>\n",
       "      <td>0.299532</td>\n",
       "      <td>1.000000</td>\n",
       "      <td>0.202088</td>\n",
       "      <td>0.155857</td>\n",
       "      <td>0.324499</td>\n",
       "      <td>0.064991</td>\n",
       "      <td>0.368316</td>\n",
       "      <td>-0.345646</td>\n",
       "    </tr>\n",
       "    <tr>\n",
       "      <th>O3</th>\n",
       "      <td>0.208712</td>\n",
       "      <td>0.223841</td>\n",
       "      <td>-0.031839</td>\n",
       "      <td>0.308860</td>\n",
       "      <td>0.057416</td>\n",
       "      <td>0.149557</td>\n",
       "      <td>0.040019</td>\n",
       "      <td>0.202088</td>\n",
       "      <td>1.000000</td>\n",
       "      <td>0.081834</td>\n",
       "      <td>0.154748</td>\n",
       "      <td>0.042275</td>\n",
       "      <td>0.218589</td>\n",
       "      <td>-0.205269</td>\n",
       "    </tr>\n",
       "    <tr>\n",
       "      <th>Benzene</th>\n",
       "      <td>0.172375</td>\n",
       "      <td>0.178905</td>\n",
       "      <td>0.209174</td>\n",
       "      <td>0.253733</td>\n",
       "      <td>0.249209</td>\n",
       "      <td>0.014599</td>\n",
       "      <td>0.223971</td>\n",
       "      <td>0.155857</td>\n",
       "      <td>0.081834</td>\n",
       "      <td>1.000000</td>\n",
       "      <td>0.617177</td>\n",
       "      <td>0.344152</td>\n",
       "      <td>0.200742</td>\n",
       "      <td>-0.233144</td>\n",
       "    </tr>\n",
       "    <tr>\n",
       "      <th>Toluene</th>\n",
       "      <td>0.196428</td>\n",
       "      <td>0.205240</td>\n",
       "      <td>0.222996</td>\n",
       "      <td>0.325645</td>\n",
       "      <td>0.274576</td>\n",
       "      <td>0.055525</td>\n",
       "      <td>0.328570</td>\n",
       "      <td>0.324499</td>\n",
       "      <td>0.154748</td>\n",
       "      <td>0.617177</td>\n",
       "      <td>1.000000</td>\n",
       "      <td>0.281294</td>\n",
       "      <td>0.289828</td>\n",
       "      <td>-0.329600</td>\n",
       "    </tr>\n",
       "    <tr>\n",
       "      <th>Xylene</th>\n",
       "      <td>0.050087</td>\n",
       "      <td>0.047033</td>\n",
       "      <td>0.048554</td>\n",
       "      <td>0.054867</td>\n",
       "      <td>0.059547</td>\n",
       "      <td>-0.035816</td>\n",
       "      <td>0.166456</td>\n",
       "      <td>0.064991</td>\n",
       "      <td>0.042275</td>\n",
       "      <td>0.344152</td>\n",
       "      <td>0.281294</td>\n",
       "      <td>1.000000</td>\n",
       "      <td>0.017380</td>\n",
       "      <td>-0.088194</td>\n",
       "    </tr>\n",
       "    <tr>\n",
       "      <th>AQI</th>\n",
       "      <td>0.837849</td>\n",
       "      <td>0.644082</td>\n",
       "      <td>0.480921</td>\n",
       "      <td>0.474620</td>\n",
       "      <td>0.471735</td>\n",
       "      <td>0.327011</td>\n",
       "      <td>0.486975</td>\n",
       "      <td>0.368316</td>\n",
       "      <td>0.218589</td>\n",
       "      <td>0.200742</td>\n",
       "      <td>0.289828</td>\n",
       "      <td>0.017380</td>\n",
       "      <td>1.000000</td>\n",
       "      <td>-0.871900</td>\n",
       "    </tr>\n",
       "    <tr>\n",
       "      <th>AQI_Bucket</th>\n",
       "      <td>-0.734617</td>\n",
       "      <td>-0.574577</td>\n",
       "      <td>-0.435963</td>\n",
       "      <td>-0.444236</td>\n",
       "      <td>-0.419030</td>\n",
       "      <td>-0.293535</td>\n",
       "      <td>-0.538321</td>\n",
       "      <td>-0.345646</td>\n",
       "      <td>-0.205269</td>\n",
       "      <td>-0.233144</td>\n",
       "      <td>-0.329600</td>\n",
       "      <td>-0.088194</td>\n",
       "      <td>-0.871900</td>\n",
       "      <td>1.000000</td>\n",
       "    </tr>\n",
       "  </tbody>\n",
       "</table>\n",
       "</div>"
      ],
      "text/plain": [
       "               PM2.5      PM10        NO       NO2       NOx       NH3  \\\n",
       "PM2.5       1.000000  0.675593  0.445888  0.436076  0.434471  0.338228   \n",
       "PM10        0.675593  1.000000  0.418935  0.421199  0.420906  0.358488   \n",
       "NO          0.445888  0.418935  1.000000  0.508010  0.739788  0.275933   \n",
       "NO2         0.436076  0.421199  0.508010  1.000000  0.602880  0.361261   \n",
       "NOx         0.434471  0.420906  0.739788  0.602880  1.000000  0.246804   \n",
       "NH3         0.338228  0.358488  0.275933  0.361261  0.246804  1.000000   \n",
       "CO          0.299084  0.244187  0.276474  0.225996  0.272556  0.160798   \n",
       "SO2         0.257631  0.297238  0.338338  0.298309  0.287530  0.060975   \n",
       "O3          0.208712  0.223841 -0.031839  0.308860  0.057416  0.149557   \n",
       "Benzene     0.172375  0.178905  0.209174  0.253733  0.249209  0.014599   \n",
       "Toluene     0.196428  0.205240  0.222996  0.325645  0.274576  0.055525   \n",
       "Xylene      0.050087  0.047033  0.048554  0.054867  0.059547 -0.035816   \n",
       "AQI         0.837849  0.644082  0.480921  0.474620  0.471735  0.327011   \n",
       "AQI_Bucket -0.734617 -0.574577 -0.435963 -0.444236 -0.419030 -0.293535   \n",
       "\n",
       "                  CO       SO2        O3   Benzene   Toluene    Xylene  \\\n",
       "PM2.5       0.299084  0.257631  0.208712  0.172375  0.196428  0.050087   \n",
       "PM10        0.244187  0.297238  0.223841  0.178905  0.205240  0.047033   \n",
       "NO          0.276474  0.338338 -0.031839  0.209174  0.222996  0.048554   \n",
       "NO2         0.225996  0.298309  0.308860  0.253733  0.325645  0.054867   \n",
       "NOx         0.272556  0.287530  0.057416  0.249209  0.274576  0.059547   \n",
       "NH3         0.160798  0.060975  0.149557  0.014599  0.055525 -0.035816   \n",
       "CO          1.000000  0.299532  0.040019  0.223971  0.328570  0.166456   \n",
       "SO2         0.299532  1.000000  0.202088  0.155857  0.324499  0.064991   \n",
       "O3          0.040019  0.202088  1.000000  0.081834  0.154748  0.042275   \n",
       "Benzene     0.223971  0.155857  0.081834  1.000000  0.617177  0.344152   \n",
       "Toluene     0.328570  0.324499  0.154748  0.617177  1.000000  0.281294   \n",
       "Xylene      0.166456  0.064991  0.042275  0.344152  0.281294  1.000000   \n",
       "AQI         0.486975  0.368316  0.218589  0.200742  0.289828  0.017380   \n",
       "AQI_Bucket -0.538321 -0.345646 -0.205269 -0.233144 -0.329600 -0.088194   \n",
       "\n",
       "                 AQI  AQI_Bucket  \n",
       "PM2.5       0.837849   -0.734617  \n",
       "PM10        0.644082   -0.574577  \n",
       "NO          0.480921   -0.435963  \n",
       "NO2         0.474620   -0.444236  \n",
       "NOx         0.471735   -0.419030  \n",
       "NH3         0.327011   -0.293535  \n",
       "CO          0.486975   -0.538321  \n",
       "SO2         0.368316   -0.345646  \n",
       "O3          0.218589   -0.205269  \n",
       "Benzene     0.200742   -0.233144  \n",
       "Toluene     0.289828   -0.329600  \n",
       "Xylene      0.017380   -0.088194  \n",
       "AQI         1.000000   -0.871900  \n",
       "AQI_Bucket -0.871900    1.000000  "
      ]
     },
     "execution_count": 176,
     "metadata": {},
     "output_type": "execute_result"
    }
   ],
   "source": [
    "df.corr()"
   ]
  },
  {
   "cell_type": "code",
   "execution_count": 177,
   "id": "f07877a4",
   "metadata": {},
   "outputs": [
    {
     "data": {
      "text/plain": [
       "<AxesSubplot:>"
      ]
     },
     "execution_count": 177,
     "metadata": {},
     "output_type": "execute_result"
    },
    {
     "data": {
      "image/png": "[encoded data removed]",
      "text/plain": [
       "<Figure size 1080x720 with 2 Axes>"
      ]
     },
     "metadata": {
      "needs_background": "light"
     },
     "output_type": "display_data"
    }
   ],
   "source": [
    "from sklearn import preprocessing\n",
    "corrmet = df.corr()\n",
    "plt.subplots(figsize=(15,10))\n",
    "sns.heatmap(corrmet,annot=True,linewidth=.2)"
   ]
  },
  {
   "cell_type": "code",
   "execution_count": 178,
   "id": "253915cf",
   "metadata": {},
   "outputs": [],
   "source": [
    "df['BTX']=df['Benzene']+df['Toluene']+df['Xylene']\n",
    "x = df.drop(['Benzene', 'Toluene', 'Xylene'],axis=1)"
   ]
  },
  {
   "cell_type": "code",
   "execution_count": 179,
   "id": "cbca0181",
   "metadata": {},
   "outputs": [
    {
     "data": {
      "text/html": [
       "<div>\n",
       "<style scoped>\n",
       "    .dataframe tbody tr th:only-of-type {\n",
       "        vertical-align: middle;\n",
       "    }\n",
       "\n",
       "    .dataframe tbody tr th {\n",
       "        vertical-align: top;\n",
       "    }\n",
       "\n",
       "    .dataframe thead th {\n",
       "        text-align: right;\n",
       "    }\n",
       "</style>\n",
       "<table border=\"1\" class=\"dataframe\">\n",
       "  <thead>\n",
       "    <tr style=\"text-align: right;\">\n",
       "      <th></th>\n",
       "      <th>PM2.5</th>\n",
       "      <th>PM10</th>\n",
       "      <th>NO</th>\n",
       "      <th>NO2</th>\n",
       "      <th>NOx</th>\n",
       "      <th>NH3</th>\n",
       "      <th>CO</th>\n",
       "      <th>SO2</th>\n",
       "      <th>O3</th>\n",
       "      <th>AQI</th>\n",
       "      <th>AQI_Bucket</th>\n",
       "      <th>BTX</th>\n",
       "    </tr>\n",
       "  </thead>\n",
       "  <tbody>\n",
       "    <tr>\n",
       "      <th>count</th>\n",
       "      <td>29531.000000</td>\n",
       "      <td>29531.000000</td>\n",
       "      <td>29531.000000</td>\n",
       "      <td>29531.000000</td>\n",
       "      <td>29531.000000</td>\n",
       "      <td>29531.000000</td>\n",
       "      <td>29531.000000</td>\n",
       "      <td>29531.000000</td>\n",
       "      <td>29531.000000</td>\n",
       "      <td>29531.000000</td>\n",
       "      <td>29531.000000</td>\n",
       "      <td>29531.000000</td>\n",
       "    </tr>\n",
       "    <tr>\n",
       "      <th>mean</th>\n",
       "      <td>60.125121</td>\n",
       "      <td>107.566557</td>\n",
       "      <td>14.233758</td>\n",
       "      <td>26.968468</td>\n",
       "      <td>28.951549</td>\n",
       "      <td>20.851662</td>\n",
       "      <td>1.206492</td>\n",
       "      <td>11.890671</td>\n",
       "      <td>33.718880</td>\n",
       "      <td>152.729235</td>\n",
       "      <td>4.014019</td>\n",
       "      <td>11.566688</td>\n",
       "    </tr>\n",
       "    <tr>\n",
       "      <th>std</th>\n",
       "      <td>34.874382</td>\n",
       "      <td>41.386046</td>\n",
       "      <td>10.131566</td>\n",
       "      <td>17.351398</td>\n",
       "      <td>18.876389</td>\n",
       "      <td>10.570840</td>\n",
       "      <td>0.941782</td>\n",
       "      <td>7.250163</td>\n",
       "      <td>17.676668</td>\n",
       "      <td>81.991592</td>\n",
       "      <td>1.221328</td>\n",
       "      <td>7.944810</td>\n",
       "    </tr>\n",
       "    <tr>\n",
       "      <th>min</th>\n",
       "      <td>0.040000</td>\n",
       "      <td>21.096846</td>\n",
       "      <td>0.020000</td>\n",
       "      <td>0.010000</td>\n",
       "      <td>0.000000</td>\n",
       "      <td>0.010000</td>\n",
       "      <td>0.000000</td>\n",
       "      <td>0.010000</td>\n",
       "      <td>0.010000</td>\n",
       "      <td>13.000000</td>\n",
       "      <td>1.000000</td>\n",
       "      <td>0.394808</td>\n",
       "    </tr>\n",
       "    <tr>\n",
       "      <th>25%</th>\n",
       "      <td>32.150000</td>\n",
       "      <td>79.315000</td>\n",
       "      <td>6.210000</td>\n",
       "      <td>12.980000</td>\n",
       "      <td>14.670000</td>\n",
       "      <td>12.040000</td>\n",
       "      <td>0.540000</td>\n",
       "      <td>6.090000</td>\n",
       "      <td>20.740000</td>\n",
       "      <td>88.000000</td>\n",
       "      <td>3.000000</td>\n",
       "      <td>4.704808</td>\n",
       "    </tr>\n",
       "    <tr>\n",
       "      <th>50%</th>\n",
       "      <td>58.030000</td>\n",
       "      <td>118.127103</td>\n",
       "      <td>11.530000</td>\n",
       "      <td>25.240000</td>\n",
       "      <td>27.550000</td>\n",
       "      <td>23.483476</td>\n",
       "      <td>0.950000</td>\n",
       "      <td>10.480000</td>\n",
       "      <td>34.491430</td>\n",
       "      <td>138.000000</td>\n",
       "      <td>4.000000</td>\n",
       "      <td>11.771100</td>\n",
       "    </tr>\n",
       "    <tr>\n",
       "      <th>75%</th>\n",
       "      <td>72.450000</td>\n",
       "      <td>118.127103</td>\n",
       "      <td>17.574730</td>\n",
       "      <td>34.665000</td>\n",
       "      <td>36.015000</td>\n",
       "      <td>23.483476</td>\n",
       "      <td>1.710000</td>\n",
       "      <td>14.531977</td>\n",
       "      <td>42.730000</td>\n",
       "      <td>179.000000</td>\n",
       "      <td>5.000000</td>\n",
       "      <td>15.051940</td>\n",
       "    </tr>\n",
       "    <tr>\n",
       "      <th>max</th>\n",
       "      <td>132.900000</td>\n",
       "      <td>176.345257</td>\n",
       "      <td>34.621824</td>\n",
       "      <td>67.192500</td>\n",
       "      <td>68.032500</td>\n",
       "      <td>40.648690</td>\n",
       "      <td>3.465000</td>\n",
       "      <td>27.194943</td>\n",
       "      <td>75.715000</td>\n",
       "      <td>315.500000</td>\n",
       "      <td>6.000000</td>\n",
       "      <td>32.349851</td>\n",
       "    </tr>\n",
       "  </tbody>\n",
       "</table>\n",
       "</div>"
      ],
      "text/plain": [
       "              PM2.5          PM10            NO           NO2           NOx  \\\n",
       "count  29531.000000  29531.000000  29531.000000  29531.000000  29531.000000   \n",
       "mean      60.125121    107.566557     14.233758     26.968468     28.951549   \n",
       "std       34.874382     41.386046     10.131566     17.351398     18.876389   \n",
       "min        0.040000     21.096846      0.020000      0.010000      0.000000   \n",
       "25%       32.150000     79.315000      6.210000     12.980000     14.670000   \n",
       "50%       58.030000    118.127103     11.530000     25.240000     27.550000   \n",
       "75%       72.450000    118.127103     17.574730     34.665000     36.015000   \n",
       "max      132.900000    176.345257     34.621824     67.192500     68.032500   \n",
       "\n",
       "                NH3            CO           SO2            O3           AQI  \\\n",
       "count  29531.000000  29531.000000  29531.000000  29531.000000  29531.000000   \n",
       "mean      20.851662      1.206492     11.890671     33.718880    152.729235   \n",
       "std       10.570840      0.941782      7.250163     17.676668     81.991592   \n",
       "min        0.010000      0.000000      0.010000      0.010000     13.000000   \n",
       "25%       12.040000      0.540000      6.090000     20.740000     88.000000   \n",
       "50%       23.483476      0.950000     10.480000     34.491430    138.000000   \n",
       "75%       23.483476      1.710000     14.531977     42.730000    179.000000   \n",
       "max       40.648690      3.465000     27.194943     75.715000    315.500000   \n",
       "\n",
       "         AQI_Bucket           BTX  \n",
       "count  29531.000000  29531.000000  \n",
       "mean       4.014019     11.566688  \n",
       "std        1.221328      7.944810  \n",
       "min        1.000000      0.394808  \n",
       "25%        3.000000      4.704808  \n",
       "50%        4.000000     11.771100  \n",
       "75%        5.000000     15.051940  \n",
       "max        6.000000     32.349851  "
      ]
     },
     "execution_count": 179,
     "metadata": {},
     "output_type": "execute_result"
    }
   ],
   "source": [
    "x.describe()"
   ]
  },
  {
   "cell_type": "code",
   "execution_count": 180,
   "id": "269f4522",
   "metadata": {},
   "outputs": [],
   "source": [
    "from sklearn import preprocessing\n",
    "le=preprocessing.LabelEncoder()\n",
    "df2=df.copy()\n",
    "df2.City=le.fit_transform(df2.City)\n",
    "df2.Date=le.fit_transform(df2.Date)\n",
    "df2.AQI_Bucket=le.fit_transform(df2.AQI_Bucket)"
   ]
  },
  {
   "cell_type": "code",
   "execution_count": 181,
   "id": "7799b445",
   "metadata": {},
   "outputs": [
    {
     "data": {
      "text/html": [
       "<div>\n",
       "<style scoped>\n",
       "    .dataframe tbody tr th:only-of-type {\n",
       "        vertical-align: middle;\n",
       "    }\n",
       "\n",
       "    .dataframe tbody tr th {\n",
       "        vertical-align: top;\n",
       "    }\n",
       "\n",
       "    .dataframe thead th {\n",
       "        text-align: right;\n",
       "    }\n",
       "</style>\n",
       "<table border=\"1\" class=\"dataframe\">\n",
       "  <thead>\n",
       "    <tr style=\"text-align: right;\">\n",
       "      <th></th>\n",
       "      <th>City</th>\n",
       "      <th>Date</th>\n",
       "      <th>PM2.5</th>\n",
       "      <th>PM10</th>\n",
       "      <th>NO</th>\n",
       "      <th>NO2</th>\n",
       "      <th>NOx</th>\n",
       "      <th>NH3</th>\n",
       "      <th>CO</th>\n",
       "      <th>SO2</th>\n",
       "      <th>O3</th>\n",
       "      <th>Benzene</th>\n",
       "      <th>Toluene</th>\n",
       "      <th>Xylene</th>\n",
       "      <th>AQI</th>\n",
       "      <th>AQI_Bucket</th>\n",
       "      <th>BTX</th>\n",
       "    </tr>\n",
       "  </thead>\n",
       "  <tbody>\n",
       "    <tr>\n",
       "      <th>count</th>\n",
       "      <td>29531.000000</td>\n",
       "      <td>29531.000000</td>\n",
       "      <td>29531.000000</td>\n",
       "      <td>29531.000000</td>\n",
       "      <td>29531.000000</td>\n",
       "      <td>29531.000000</td>\n",
       "      <td>29531.000000</td>\n",
       "      <td>29531.000000</td>\n",
       "      <td>29531.000000</td>\n",
       "      <td>29531.000000</td>\n",
       "      <td>29531.000000</td>\n",
       "      <td>29531.000000</td>\n",
       "      <td>29531.000000</td>\n",
       "      <td>29531.000000</td>\n",
       "      <td>29531.000000</td>\n",
       "      <td>29531.000000</td>\n",
       "      <td>29531.000000</td>\n",
       "    </tr>\n",
       "    <tr>\n",
       "      <th>mean</th>\n",
       "      <td>12.888592</td>\n",
       "      <td>1229.236294</td>\n",
       "      <td>60.125121</td>\n",
       "      <td>107.566557</td>\n",
       "      <td>14.233758</td>\n",
       "      <td>26.968468</td>\n",
       "      <td>28.951549</td>\n",
       "      <td>20.851662</td>\n",
       "      <td>1.206492</td>\n",
       "      <td>11.890671</td>\n",
       "      <td>33.718880</td>\n",
       "      <td>2.250422</td>\n",
       "      <td>6.716823</td>\n",
       "      <td>2.599443</td>\n",
       "      <td>152.729235</td>\n",
       "      <td>3.014019</td>\n",
       "      <td>11.566688</td>\n",
       "    </tr>\n",
       "    <tr>\n",
       "      <th>std</th>\n",
       "      <td>7.587015</td>\n",
       "      <td>548.624475</td>\n",
       "      <td>34.874382</td>\n",
       "      <td>41.386046</td>\n",
       "      <td>10.131566</td>\n",
       "      <td>17.351398</td>\n",
       "      <td>18.876389</td>\n",
       "      <td>10.570840</td>\n",
       "      <td>0.941782</td>\n",
       "      <td>7.250163</td>\n",
       "      <td>17.676668</td>\n",
       "      <td>2.185328</td>\n",
       "      <td>5.922055</td>\n",
       "      <td>1.207735</td>\n",
       "      <td>81.991592</td>\n",
       "      <td>1.221328</td>\n",
       "      <td>7.944810</td>\n",
       "    </tr>\n",
       "    <tr>\n",
       "      <th>min</th>\n",
       "      <td>0.000000</td>\n",
       "      <td>0.000000</td>\n",
       "      <td>0.040000</td>\n",
       "      <td>21.096846</td>\n",
       "      <td>0.020000</td>\n",
       "      <td>0.010000</td>\n",
       "      <td>0.000000</td>\n",
       "      <td>0.010000</td>\n",
       "      <td>0.000000</td>\n",
       "      <td>0.010000</td>\n",
       "      <td>0.010000</td>\n",
       "      <td>0.000000</td>\n",
       "      <td>0.000000</td>\n",
       "      <td>0.394808</td>\n",
       "      <td>13.000000</td>\n",
       "      <td>0.000000</td>\n",
       "      <td>0.394808</td>\n",
       "    </tr>\n",
       "    <tr>\n",
       "      <th>25%</th>\n",
       "      <td>6.000000</td>\n",
       "      <td>836.000000</td>\n",
       "      <td>32.150000</td>\n",
       "      <td>79.315000</td>\n",
       "      <td>6.210000</td>\n",
       "      <td>12.980000</td>\n",
       "      <td>14.670000</td>\n",
       "      <td>12.040000</td>\n",
       "      <td>0.540000</td>\n",
       "      <td>6.090000</td>\n",
       "      <td>20.740000</td>\n",
       "      <td>0.240000</td>\n",
       "      <td>1.280000</td>\n",
       "      <td>2.000000</td>\n",
       "      <td>88.000000</td>\n",
       "      <td>2.000000</td>\n",
       "      <td>4.704808</td>\n",
       "    </tr>\n",
       "    <tr>\n",
       "      <th>50%</th>\n",
       "      <td>14.000000</td>\n",
       "      <td>1312.000000</td>\n",
       "      <td>58.030000</td>\n",
       "      <td>118.127103</td>\n",
       "      <td>11.530000</td>\n",
       "      <td>25.240000</td>\n",
       "      <td>27.550000</td>\n",
       "      <td>23.483476</td>\n",
       "      <td>0.950000</td>\n",
       "      <td>10.480000</td>\n",
       "      <td>34.491430</td>\n",
       "      <td>1.840000</td>\n",
       "      <td>6.930000</td>\n",
       "      <td>3.070128</td>\n",
       "      <td>138.000000</td>\n",
       "      <td>3.000000</td>\n",
       "      <td>11.771100</td>\n",
       "    </tr>\n",
       "    <tr>\n",
       "      <th>75%</th>\n",
       "      <td>20.000000</td>\n",
       "      <td>1706.000000</td>\n",
       "      <td>72.450000</td>\n",
       "      <td>118.127103</td>\n",
       "      <td>17.574730</td>\n",
       "      <td>34.665000</td>\n",
       "      <td>36.015000</td>\n",
       "      <td>23.483476</td>\n",
       "      <td>1.710000</td>\n",
       "      <td>14.531977</td>\n",
       "      <td>42.730000</td>\n",
       "      <td>3.280840</td>\n",
       "      <td>8.700972</td>\n",
       "      <td>3.070128</td>\n",
       "      <td>179.000000</td>\n",
       "      <td>4.000000</td>\n",
       "      <td>15.051940</td>\n",
       "    </tr>\n",
       "    <tr>\n",
       "      <th>max</th>\n",
       "      <td>25.000000</td>\n",
       "      <td>2008.000000</td>\n",
       "      <td>132.900000</td>\n",
       "      <td>176.345257</td>\n",
       "      <td>34.621824</td>\n",
       "      <td>67.192500</td>\n",
       "      <td>68.032500</td>\n",
       "      <td>40.648690</td>\n",
       "      <td>3.465000</td>\n",
       "      <td>27.194943</td>\n",
       "      <td>75.715000</td>\n",
       "      <td>7.842101</td>\n",
       "      <td>19.832430</td>\n",
       "      <td>4.675320</td>\n",
       "      <td>315.500000</td>\n",
       "      <td>5.000000</td>\n",
       "      <td>32.349851</td>\n",
       "    </tr>\n",
       "  </tbody>\n",
       "</table>\n",
       "</div>"
      ],
      "text/plain": [
       "               City          Date         PM2.5          PM10            NO  \\\n",
       "count  29531.000000  29531.000000  29531.000000  29531.000000  29531.000000   \n",
       "mean      12.888592   1229.236294     60.125121    107.566557     14.233758   \n",
       "std        7.587015    548.624475     34.874382     41.386046     10.131566   \n",
       "min        0.000000      0.000000      0.040000     21.096846      0.020000   \n",
       "25%        6.000000    836.000000     32.150000     79.315000      6.210000   \n",
       "50%       14.000000   1312.000000     58.030000    118.127103     11.530000   \n",
       "75%       20.000000   1706.000000     72.450000    118.127103     17.574730   \n",
       "max       25.000000   2008.000000    132.900000    176.345257     34.621824   \n",
       "\n",
       "                NO2           NOx           NH3            CO           SO2  \\\n",
       "count  29531.000000  29531.000000  29531.000000  29531.000000  29531.000000   \n",
       "mean      26.968468     28.951549     20.851662      1.206492     11.890671   \n",
       "std       17.351398     18.876389     10.570840      0.941782      7.250163   \n",
       "min        0.010000      0.000000      0.010000      0.000000      0.010000   \n",
       "25%       12.980000     14.670000     12.040000      0.540000      6.090000   \n",
       "50%       25.240000     27.550000     23.483476      0.950000     10.480000   \n",
       "75%       34.665000     36.015000     23.483476      1.710000     14.531977   \n",
       "max       67.192500     68.032500     40.648690      3.465000     27.194943   \n",
       "\n",
       "                 O3       Benzene       Toluene        Xylene           AQI  \\\n",
       "count  29531.000000  29531.000000  29531.000000  29531.000000  29531.000000   \n",
       "mean      33.718880      2.250422      6.716823      2.599443    152.729235   \n",
       "std       17.676668      2.185328      5.922055      1.207735     81.991592   \n",
       "min        0.010000      0.000000      0.000000      0.394808     13.000000   \n",
       "25%       20.740000      0.240000      1.280000      2.000000     88.000000   \n",
       "50%       34.491430      1.840000      6.930000      3.070128    138.000000   \n",
       "75%       42.730000      3.280840      8.700972      3.070128    179.000000   \n",
       "max       75.715000      7.842101     19.832430      4.675320    315.500000   \n",
       "\n",
       "         AQI_Bucket           BTX  \n",
       "count  29531.000000  29531.000000  \n",
       "mean       3.014019     11.566688  \n",
       "std        1.221328      7.944810  \n",
       "min        0.000000      0.394808  \n",
       "25%        2.000000      4.704808  \n",
       "50%        3.000000     11.771100  \n",
       "75%        4.000000     15.051940  \n",
       "max        5.000000     32.349851  "
      ]
     },
     "execution_count": 181,
     "metadata": {},
     "output_type": "execute_result"
    }
   ],
   "source": [
    "df2.describe()"
   ]
  },
  {
   "cell_type": "markdown",
   "id": "65920329",
   "metadata": {},
   "source": [
    "# Standardisation"
   ]
  },
  {
   "cell_type": "code",
   "execution_count": 195,
   "id": "c56c968e",
   "metadata": {},
   "outputs": [],
   "source": [
    "x=df.drop('AQI_Bucket',axis=1)#features\n",
    "y=df['AQI_Bucket']#Target\n",
    "from sklearn.model_selection import train_test_split\n",
    "x_train,x_test,y_train,y_test=train_test_split(x,y,random_state=42,test_size=0.2)"
   ]
  },
  {
   "cell_type": "code",
   "execution_count": 196,
   "id": "b3a3f097",
   "metadata": {},
   "outputs": [],
   "source": [
    "#standard scaling\n",
    "from sklearn.preprocessing import StandardScaler\n",
    "scaler=StandardScaler()\n",
    "x_train=scaler.fit_transform(x_train)\n",
    "x_test=scaler.fit_transform(x_test)"
   ]
  },
  {
   "cell_type": "code",
   "execution_count": 197,
   "id": "4d6b2227",
   "metadata": {},
   "outputs": [],
   "source": [
    "from sklearn.neighbors import KNeighborsClassifier\n",
    "from sklearn.metrics import confusion_matrix,accuracy_score,precision_score,recall_score,f1_score\n",
    "acc_values=[]\n",
    "neighbors=np.arange(3,15)\n",
    "for k in neighbors:\n",
    "    classifier=KNeighborsClassifier(n_neighbors=4,metric='minkowski')\n",
    "    classifier.fit(x_train,y_train)\n",
    "    y_pred=classifier.predict(x_test)\n",
    "    acc=accuracy_score(y_test,y_pred)\n",
    "    acc_values.append(acc)"
   ]
  },
  {
   "cell_type": "code",
   "execution_count": 198,
   "id": "1457ca26",
   "metadata": {},
   "outputs": [
    {
     "name": "stdout",
     "output_type": "stream",
     "text": [
      "Accuracy is 0.8115794819705434\n",
      "Precision is 0.7714986921451464\n",
      "Recall is 0.7495376894696014\n",
      "F1 score is 0.758510699090265\n"
     ]
    }
   ],
   "source": [
    "print('Accuracy is',accuracy_score(y_test,y_pred))\n",
    "print('Precision is',precision_score(y_test,y_pred,average='macro'))\n",
    "print('Recall is',recall_score(y_test,y_pred,average='macro'))\n",
    "print('F1 score is',f1_score(y_test,y_pred,average='macro'))"
   ]
  },
  {
   "cell_type": "code",
   "execution_count": 199,
   "id": "cd8272a1",
   "metadata": {},
   "outputs": [
    {
     "data": {
      "text/plain": [
       "array([[ 208,   80,    7,    4,    2,    0],\n",
       "       [  86,  388,   55,    6,    0,    0],\n",
       "       [   9,   90,  443,   96,    2,    0],\n",
       "       [   3,   12,  105, 1812,  165,    5],\n",
       "       [   0,    3,    2,  255, 1749,   30],\n",
       "       [   0,    1,    1,    6,   88,  194]], dtype=int64)"
      ]
     },
     "execution_count": 199,
     "metadata": {},
     "output_type": "execute_result"
    }
   ],
   "source": [
    "confusion_matrix(y_test,y_pred)"
   ]
  },
  {
   "cell_type": "markdown",
   "id": "83094b26",
   "metadata": {},
   "source": [
    "# Feature engineering"
   ]
  },
  {
   "cell_type": "code",
   "execution_count": 182,
   "id": "9cbb86d7",
   "metadata": {},
   "outputs": [],
   "source": [
    "from sklearn.model_selection import train_test_split\n",
    "x = df2.drop(\"AQI_Bucket\",axis=1)\n",
    "y = df2[\"AQI_Bucket\"]\n",
    "X_train,X_test,Y_train,Y_test = train_test_split(x,y,test_size=0.20,random_state=0)"
   ]
  },
  {
   "cell_type": "code",
   "execution_count": 183,
   "id": "1dfe1426",
   "metadata": {},
   "outputs": [
    {
     "data": {
      "text/html": [
       "<div>\n",
       "<style scoped>\n",
       "    .dataframe tbody tr th:only-of-type {\n",
       "        vertical-align: middle;\n",
       "    }\n",
       "\n",
       "    .dataframe tbody tr th {\n",
       "        vertical-align: top;\n",
       "    }\n",
       "\n",
       "    .dataframe thead th {\n",
       "        text-align: right;\n",
       "    }\n",
       "</style>\n",
       "<table border=\"1\" class=\"dataframe\">\n",
       "  <thead>\n",
       "    <tr style=\"text-align: right;\">\n",
       "      <th></th>\n",
       "      <th>City</th>\n",
       "      <th>Date</th>\n",
       "      <th>PM2.5</th>\n",
       "      <th>PM10</th>\n",
       "      <th>NO</th>\n",
       "      <th>NO2</th>\n",
       "      <th>NOx</th>\n",
       "      <th>NH3</th>\n",
       "      <th>CO</th>\n",
       "      <th>SO2</th>\n",
       "      <th>O3</th>\n",
       "      <th>Benzene</th>\n",
       "      <th>Toluene</th>\n",
       "      <th>Xylene</th>\n",
       "      <th>AQI</th>\n",
       "      <th>AQI_Bucket</th>\n",
       "      <th>BTX</th>\n",
       "      <th>year</th>\n",
       "      <th>month_year</th>\n",
       "    </tr>\n",
       "  </thead>\n",
       "  <tbody>\n",
       "    <tr>\n",
       "      <th>0</th>\n",
       "      <td>Ahmedabad</td>\n",
       "      <td>2015-01-01</td>\n",
       "      <td>67.450578</td>\n",
       "      <td>118.127103</td>\n",
       "      <td>0.92</td>\n",
       "      <td>18.22</td>\n",
       "      <td>17.15</td>\n",
       "      <td>23.483476</td>\n",
       "      <td>0.920</td>\n",
       "      <td>27.194943</td>\n",
       "      <td>75.715</td>\n",
       "      <td>0.00</td>\n",
       "      <td>0.02</td>\n",
       "      <td>0.394808</td>\n",
       "      <td>166.463581</td>\n",
       "      <td>3</td>\n",
       "      <td>0.414808</td>\n",
       "      <td>2015</td>\n",
       "      <td>2015-01</td>\n",
       "    </tr>\n",
       "    <tr>\n",
       "      <th>1</th>\n",
       "      <td>Ahmedabad</td>\n",
       "      <td>2015-01-02</td>\n",
       "      <td>67.450578</td>\n",
       "      <td>118.127103</td>\n",
       "      <td>0.97</td>\n",
       "      <td>15.69</td>\n",
       "      <td>16.46</td>\n",
       "      <td>23.483476</td>\n",
       "      <td>0.970</td>\n",
       "      <td>24.550000</td>\n",
       "      <td>34.060</td>\n",
       "      <td>3.68</td>\n",
       "      <td>5.50</td>\n",
       "      <td>3.770000</td>\n",
       "      <td>166.463581</td>\n",
       "      <td>3</td>\n",
       "      <td>12.950000</td>\n",
       "      <td>2015</td>\n",
       "      <td>2015-01</td>\n",
       "    </tr>\n",
       "    <tr>\n",
       "      <th>2</th>\n",
       "      <td>Ahmedabad</td>\n",
       "      <td>2015-01-03</td>\n",
       "      <td>67.450578</td>\n",
       "      <td>118.127103</td>\n",
       "      <td>17.40</td>\n",
       "      <td>19.30</td>\n",
       "      <td>29.70</td>\n",
       "      <td>23.483476</td>\n",
       "      <td>3.465</td>\n",
       "      <td>27.194943</td>\n",
       "      <td>30.700</td>\n",
       "      <td>6.80</td>\n",
       "      <td>16.40</td>\n",
       "      <td>2.250000</td>\n",
       "      <td>166.463581</td>\n",
       "      <td>3</td>\n",
       "      <td>25.450000</td>\n",
       "      <td>2015</td>\n",
       "      <td>2015-01</td>\n",
       "    </tr>\n",
       "    <tr>\n",
       "      <th>3</th>\n",
       "      <td>Ahmedabad</td>\n",
       "      <td>2015-01-04</td>\n",
       "      <td>67.450578</td>\n",
       "      <td>118.127103</td>\n",
       "      <td>1.70</td>\n",
       "      <td>18.48</td>\n",
       "      <td>17.97</td>\n",
       "      <td>23.483476</td>\n",
       "      <td>1.700</td>\n",
       "      <td>18.590000</td>\n",
       "      <td>36.080</td>\n",
       "      <td>4.43</td>\n",
       "      <td>10.14</td>\n",
       "      <td>1.000000</td>\n",
       "      <td>166.463581</td>\n",
       "      <td>3</td>\n",
       "      <td>15.570000</td>\n",
       "      <td>2015</td>\n",
       "      <td>2015-01</td>\n",
       "    </tr>\n",
       "    <tr>\n",
       "      <th>4</th>\n",
       "      <td>Ahmedabad</td>\n",
       "      <td>2015-01-05</td>\n",
       "      <td>67.450578</td>\n",
       "      <td>118.127103</td>\n",
       "      <td>22.10</td>\n",
       "      <td>21.42</td>\n",
       "      <td>37.76</td>\n",
       "      <td>23.483476</td>\n",
       "      <td>3.465</td>\n",
       "      <td>27.194943</td>\n",
       "      <td>39.310</td>\n",
       "      <td>7.01</td>\n",
       "      <td>18.89</td>\n",
       "      <td>2.780000</td>\n",
       "      <td>166.463581</td>\n",
       "      <td>3</td>\n",
       "      <td>28.680000</td>\n",
       "      <td>2015</td>\n",
       "      <td>2015-01</td>\n",
       "    </tr>\n",
       "  </tbody>\n",
       "</table>\n",
       "</div>"
      ],
      "text/plain": [
       "        City        Date      PM2.5        PM10     NO    NO2    NOx  \\\n",
       "0  Ahmedabad  2015-01-01  67.450578  118.127103   0.92  18.22  17.15   \n",
       "1  Ahmedabad  2015-01-02  67.450578  118.127103   0.97  15.69  16.46   \n",
       "2  Ahmedabad  2015-01-03  67.450578  118.127103  17.40  19.30  29.70   \n",
       "3  Ahmedabad  2015-01-04  67.450578  118.127103   1.70  18.48  17.97   \n",
       "4  Ahmedabad  2015-01-05  67.450578  118.127103  22.10  21.42  37.76   \n",
       "\n",
       "         NH3     CO        SO2      O3  Benzene  Toluene    Xylene  \\\n",
       "0  23.483476  0.920  27.194943  75.715     0.00     0.02  0.394808   \n",
       "1  23.483476  0.970  24.550000  34.060     3.68     5.50  3.770000   \n",
       "2  23.483476  3.465  27.194943  30.700     6.80    16.40  2.250000   \n",
       "3  23.483476  1.700  18.590000  36.080     4.43    10.14  1.000000   \n",
       "4  23.483476  3.465  27.194943  39.310     7.01    18.89  2.780000   \n",
       "\n",
       "          AQI  AQI_Bucket        BTX  year month_year  \n",
       "0  166.463581           3   0.414808  2015    2015-01  \n",
       "1  166.463581           3  12.950000  2015    2015-01  \n",
       "2  166.463581           3  25.450000  2015    2015-01  \n",
       "3  166.463581           3  15.570000  2015    2015-01  \n",
       "4  166.463581           3  28.680000  2015    2015-01  "
      ]
     },
     "execution_count": 183,
     "metadata": {},
     "output_type": "execute_result"
    }
   ],
   "source": [
    "#Extract 'year' and 'month_year' from the dataset useful for our analysis\n",
    "df['year'] = pd.DatetimeIndex(df['Date']).year\n",
    "df['month_year'] = pd.to_datetime(df['Date']).dt.to_period('M')\n",
    "df.head()"
   ]
  },
  {
   "cell_type": "markdown",
   "id": "63d7dbb5",
   "metadata": {},
   "source": [
    "#                        >>M3: EXPLORATORY DATA ANALYSIS (EDA)"
   ]
  },
  {
   "cell_type": "markdown",
   "id": "d4093167",
   "metadata": {},
   "source": [
    "# 1.Univariate"
   ]
  },
  {
   "cell_type": "code",
   "execution_count": 184,
   "id": "8e0dac9c",
   "metadata": {},
   "outputs": [
    {
     "data": {
      "text/plain": [
       "Text(0.5, 1.0, 'AQI')"
      ]
     },
     "execution_count": 184,
     "metadata": {},
     "output_type": "execute_result"
    },
    {
     "data": {
      "image/png": "[encoded data removed]",
      "text/plain": [
       "<Figure size 432x288 with 1 Axes>"
      ]
     },
     "metadata": {
      "needs_background": "light"
     },
     "output_type": "display_data"
    }
   ],
   "source": [
    "# distplot Air Quality Index per density\n",
    "sns.distplot(x=df['AQI'],color='red')\n",
    "plt.title('AQI')"
   ]
  },
  {
   "cell_type": "code",
   "execution_count": 185,
   "id": "eadeec14",
   "metadata": {},
   "outputs": [
    {
     "data": {
      "text/plain": [
       "Text(0.5, 1.0, 'Particular Matter 2.5')"
      ]
     },
     "execution_count": 185,
     "metadata": {},
     "output_type": "execute_result"
    },
    {
     "data": {
      "image/png": "[encoded data removed]",
      "text/plain": [
       "<Figure size 432x288 with 1 Axes>"
      ]
     },
     "metadata": {
      "needs_background": "light"
     },
     "output_type": "display_data"
    }
   ],
   "source": [
    "# distplot Particular Matter 2.5 per density\n",
    "sns.distplot(x=df['PM2.5'],color='green')\n",
    "plt.title('Particular Matter 2.5')"
   ]
  },
  {
   "cell_type": "code",
   "execution_count": 186,
   "id": "5928a8f5",
   "metadata": {},
   "outputs": [
    {
     "data": {
      "image/png": "[encoded data removed]",
      "text/plain": [
       "<Figure size 432x288 with 1 Axes>"
      ]
     },
     "metadata": {
      "needs_background": "light"
     },
     "output_type": "display_data"
    }
   ],
   "source": [
    "#countplot on Yearly-No of Samples\n",
    "sns.countplot(y=df.year)\n",
    "plt.xticks(rotation=75);\n",
    "plt.title('Yearly-No of Samples')\n",
    "plt.ylabel(None);"
   ]
  },
  {
   "cell_type": "code",
   "execution_count": 187,
   "id": "57edbeed",
   "metadata": {},
   "outputs": [
    {
     "data": {
      "image/png": "[encoded data removed]",
      "text/plain": [
       "<Figure size 720x432 with 1 Axes>"
      ]
     },
     "metadata": {},
     "output_type": "display_data"
    }
   ],
   "source": [
    "#piechart on AQI_Bucket_distribution(2015-2020\n",
    "AQI_Bucket_distribution =df.AQI_Bucket.value_counts()\n",
    "plt.figure(figsize=(10,6))\n",
    "plt.title('AQI_Bucket_distribution(2015-2020)')\n",
    "plt.pie(AQI_Bucket_distribution, labels=AQI_Bucket_distribution.index, autopct='%1.1f%%', startangle=150);"
   ]
  },
  {
   "cell_type": "markdown",
   "id": "ece71203",
   "metadata": {},
   "source": [
    "# 2. Bi-Variate"
   ]
  },
  {
   "cell_type": "code",
   "execution_count": 188,
   "id": "4fbbc230",
   "metadata": {},
   "outputs": [
    {
     "data": {
      "text/plain": [
       "Text(0.5, 1.0, 'AQI Bucket v/s AQI')"
      ]
     },
     "execution_count": 188,
     "metadata": {},
     "output_type": "execute_result"
    },
    {
     "data": {
      "image/png": "[encoded data removed]",
      "text/plain": [
       "<Figure size 576x576 with 1 Axes>"
      ]
     },
     "metadata": {
      "needs_background": "light"
     },
     "output_type": "display_data"
    }
   ],
   "source": [
    "# scatterplot AQI Bucket v/s AQI\n",
    "plt.figure(figsize=(8,8))\n",
    "sns.scatterplot(x='AQI_Bucket',y='AQI',data=df,color='red')\n",
    "plt.title('AQI Bucket v/s AQI',size=15)"
   ]
  },
  {
   "cell_type": "code",
   "execution_count": 189,
   "id": "2ade477d",
   "metadata": {},
   "outputs": [
    {
     "data": {
      "text/plain": [
       "Text(0.5, 1.0, 'Co-relation of BTX')"
      ]
     },
     "execution_count": 189,
     "metadata": {},
     "output_type": "execute_result"
    },
    {
     "data": {
      "image/png": "[encoded data removed]",
      "text/plain": [
       "<Figure size 720x576 with 2 Axes>"
      ]
     },
     "metadata": {
      "needs_background": "light"
     },
     "output_type": "display_data"
    }
   ],
   "source": [
    "# heatmap on Co-relation of BTX\n",
    "plt.subplots(figsize=(10,8))\n",
    "corr1=df[['Benzene','Toluene','Xylene']].corr()\n",
    "sns.heatmap(corr1,annot=True)\n",
    "plt.title('Co-relation of BTX',size=15)"
   ]
  },
  {
   "cell_type": "code",
   "execution_count": 190,
   "id": "b5539b99",
   "metadata": {},
   "outputs": [
    {
     "data": {
      "image/png": "[encoded data removed]",
      "text/plain": [
       "<Figure size 864x864 with 1 Axes>"
      ]
     },
     "metadata": {
      "needs_background": "light"
     },
     "output_type": "display_data"
    }
   ],
   "source": [
    "#barplot on City VS AQI(year:2017)\n",
    "year2017 =df[df.year == 2017]\n",
    "plt.figure(figsize=(12, 12))\n",
    "sns.barplot(x = 'AQI',\n",
    "            y = 'City',\n",
    "           data = year2017)\n",
    "plt.title(\"City VS AQI(year:2017)\");\n",
    "plt.xlabel('sum of AQI');"
   ]
  },
  {
   "cell_type": "code",
   "execution_count": 191,
   "id": "c92fa3b6",
   "metadata": {},
   "outputs": [
    {
     "data": {
      "text/plain": [
       "[<matplotlib.lines.Line2D at 0x1748ac302b0>]"
      ]
     },
     "execution_count": 191,
     "metadata": {},
     "output_type": "execute_result"
    },
    {
     "data": {
      "image/png": "[encoded data removed]",
      "text/plain": [
       "<Figure size 864x432 with 1 Axes>"
      ]
     },
     "metadata": {
      "needs_background": "light"
     },
     "output_type": "display_data"
    }
   ],
   "source": [
    "# Air Quality - Yearly view\n",
    "Yrs = ['year', 'AQI']\n",
    "yr_df =df[Yrs].copy()\n",
    "z = yr_df.groupby('year')['AQI'].mean()\n",
    "Years = list(z.index)\n",
    "Sum_of_AQI = z.tolist()\n",
    "plt.figure(figsize=(12,6))\n",
    "plt.title('Air Quality - Yearly view')\n",
    "plt.plot(Years, Sum_of_AQI, color='red', marker='o')"
   ]
  },
  {
   "cell_type": "code",
   "execution_count": 192,
   "id": "eb300574",
   "metadata": {},
   "outputs": [
    {
     "data": {
      "image/png": "[encoded data removed]",
      "text/plain": [
       "<Figure size 864x432 with 1 Axes>"
      ]
     },
     "metadata": {},
     "output_type": "display_data"
    }
   ],
   "source": [
    "#Distribustion of Elements which are impacting air quality\n",
    "Elements = ['NO', 'NO2', 'NOx', 'NH3', 'CO', 'SO2', 'O3', 'Benzene', 'Toluene', 'Xylene']\n",
    "Elements_whichimpacting_airquality = df[Elements].copy()\n",
    "element_df = Elements_whichimpacting_airquality.sum()\n",
    "plt.figure(figsize=(12,6))\n",
    "plt.title('Distribustion of Elements which are impacting air quality')\n",
    "plt.pie(element_df, labels=element_df.index, autopct='%1.1f%%', startangle=180);"
   ]
  },
  {
   "cell_type": "markdown",
   "id": "0c127af4",
   "metadata": {},
   "source": [
    "#                           >> M4: MODELLING"
   ]
  },
  {
   "cell_type": "markdown",
   "id": "993ddaec",
   "metadata": {},
   "source": [
    "Logistic regression model"
   ]
  },
  {
   "cell_type": "code",
   "execution_count": 193,
   "id": "2f9ff414",
   "metadata": {},
   "outputs": [],
   "source": [
    "from sklearn.linear_model import LogisticRegression\n",
    "from sklearn.metrics import confusion_matrix,accuracy_score,precision_score,recall_score,f1_score\n",
    "logit_model=LogisticRegression()\n",
    "logit_model.fit(X_train,Y_train)\n",
    "y_pred = logit_model.predict(X_test)"
   ]
  },
  {
   "cell_type": "code",
   "execution_count": 194,
   "id": "7f23429b",
   "metadata": {},
   "outputs": [
    {
     "name": "stdout",
     "output_type": "stream",
     "text": [
      "Accuracy is 0.5811748772642628\n",
      "Precision is 0.5102546007248973\n",
      "Recall is 0.4547341746576403\n",
      "F1 score is 0.4616198947631937\n"
     ]
    }
   ],
   "source": [
    "print('Accuracy is',accuracy_score(Y_test,y_pred))\n",
    "print('Precision is',precision_score(Y_test,y_pred,average='macro'))\n",
    "print('Recall is',recall_score(Y_test,y_pred,average='macro'))\n",
    "print('F1 score is',f1_score(Y_test,y_pred,average='macro'))"
   ]
  },
  {
   "cell_type": "markdown",
   "id": "f9c37cf0",
   "metadata": {},
   "source": [
    "Decision Tree "
   ]
  },
  {
   "cell_type": "code",
   "execution_count": 195,
   "id": "780f4229",
   "metadata": {},
   "outputs": [],
   "source": [
    "from sklearn.tree import DecisionTreeRegressor\n",
    "dt_model=DecisionTreeRegressor()\n",
    "dt_model.fit(X_train, Y_train)\n",
    "predictions=dt_model.predict(X_test)"
   ]
  },
  {
   "cell_type": "code",
   "execution_count": 196,
   "id": "86ff0713",
   "metadata": {},
   "outputs": [
    {
     "name": "stdout",
     "output_type": "stream",
     "text": [
      "MSE:  0.06957846622651091\n"
     ]
    }
   ],
   "source": [
    "print(\"MSE: \",mean_squared_error(Y_test,predictions))"
   ]
  },
  {
   "cell_type": "code",
   "execution_count": 197,
   "id": "2a577d64",
   "metadata": {},
   "outputs": [
    {
     "name": "stdout",
     "output_type": "stream",
     "text": [
      "R square value:  0.9526060552536094\n"
     ]
    }
   ],
   "source": [
    "print(\"R square value: \",r2_score(Y_test,predictions))"
   ]
  },
  {
   "cell_type": "code",
   "execution_count": 198,
   "id": "891bafe6",
   "metadata": {},
   "outputs": [
    {
     "name": "stdout",
     "output_type": "stream",
     "text": [
      "Accuracy is:  0.9529371931606568\n"
     ]
    }
   ],
   "source": [
    "print(\"Accuracy is: \", accuracy_score(Y_test,predictions))"
   ]
  },
  {
   "cell_type": "markdown",
   "id": "abd725d6",
   "metadata": {},
   "source": [
    "Random Forest "
   ]
  },
  {
   "cell_type": "code",
   "execution_count": 199,
   "id": "7019890d",
   "metadata": {},
   "outputs": [],
   "source": [
    "from sklearn.ensemble import RandomForestRegressor\n",
    "reg_rf = RandomForestRegressor()\n",
    "reg_rf.fit(X_train, Y_train)\n",
    "predictions=reg_rf.predict(X_test)"
   ]
  },
  {
   "cell_type": "code",
   "execution_count": 200,
   "id": "ea08bbc1",
   "metadata": {},
   "outputs": [
    {
     "name": "stdout",
     "output_type": "stream",
     "text": [
      "MSE:  0.03654083291010665\n"
     ]
    }
   ],
   "source": [
    "print(\"MSE: \",mean_squared_error(Y_test,predictions))"
   ]
  },
  {
   "cell_type": "code",
   "execution_count": 201,
   "id": "b23939bf",
   "metadata": {},
   "outputs": [
    {
     "name": "stdout",
     "output_type": "stream",
     "text": [
      "R square value:  0.9751099110134045\n"
     ]
    }
   ],
   "source": [
    "print(\"R square value: \",r2_score(Y_test,predictions))"
   ]
  },
  {
   "cell_type": "code",
   "execution_count": 202,
   "id": "7738b247",
   "metadata": {},
   "outputs": [],
   "source": [
    "from sklearn.neighbors import KNeighborsClassifier\n",
    "Knn_cl=KNeighborsClassifier()\n",
    "Knn_cl.fit(X_train,Y_train)\n",
    "predictions = Knn_cl.predict(X_test)"
   ]
  },
  {
   "cell_type": "code",
   "execution_count": 203,
   "id": "975873db",
   "metadata": {},
   "outputs": [
    {
     "name": "stdout",
     "output_type": "stream",
     "text": [
      "MSE:  0.16048755713560184\n"
     ]
    }
   ],
   "source": [
    "print(\"MSE: \",mean_squared_error(Y_test,predictions))"
   ]
  },
  {
   "cell_type": "code",
   "execution_count": 204,
   "id": "843d8fcb",
   "metadata": {},
   "outputs": [
    {
     "name": "stdout",
     "output_type": "stream",
     "text": [
      "R square value:  0.8906825800010261\n"
     ]
    }
   ],
   "source": [
    "print(\"R square value: \",r2_score(Y_test,predictions))"
   ]
  },
  {
   "cell_type": "code",
   "execution_count": 205,
   "id": "ed1c7074",
   "metadata": {},
   "outputs": [
    {
     "name": "stdout",
     "output_type": "stream",
     "text": [
      "Accuracy is:  0.877433553411207\n"
     ]
    }
   ],
   "source": [
    "from sklearn.metrics import accuracy_score\n",
    "print(\"Accuracy is: \", accuracy_score(Y_test,predictions))"
   ]
  },
  {
   "cell_type": "markdown",
   "id": "e2edfc57",
   "metadata": {},
   "source": [
    "Gradient Boosting"
   ]
  },
  {
   "cell_type": "code",
   "execution_count": 207,
   "id": "d9e45fb0",
   "metadata": {},
   "outputs": [],
   "source": [
    "from sklearn.ensemble import GradientBoostingClassifier\n",
    "gb=GradientBoostingClassifier()\n",
    "gb.fit(X_train,Y_train)\n",
    "predictions=gb.predict(X_test)"
   ]
  },
  {
   "cell_type": "code",
   "execution_count": 208,
   "id": "936bae26",
   "metadata": {},
   "outputs": [
    {
     "name": "stdout",
     "output_type": "stream",
     "text": [
      "MSE:  0.0712713729473506\n",
      "R square value:  0.951452917911848\n",
      "Accuracy is:  0.9546300998814965\n"
     ]
    }
   ],
   "source": [
    "print(\"MSE: \",mean_squared_error(Y_test,predictions))\n",
    "print(\"R square value: \",r2_score(Y_test,predictions))\n",
    "print(\"Accuracy is: \", accuracy_score(Y_test,predictions))"
   ]
  },
  {
   "cell_type": "markdown",
   "id": "f8b536ca",
   "metadata": {},
   "source": [
    "Linear Regression"
   ]
  },
  {
   "cell_type": "code",
   "execution_count": 209,
   "id": "fba85def",
   "metadata": {},
   "outputs": [],
   "source": [
    "from sklearn import linear_model\n",
    "lr=linear_model.LinearRegression()\n",
    "model=lr.fit(X_train,Y_train)\n",
    "predictions=model.predict(X_test)"
   ]
  },
  {
   "cell_type": "code",
   "execution_count": 210,
   "id": "367a2ba4",
   "metadata": {},
   "outputs": [
    {
     "name": "stdout",
     "output_type": "stream",
     "text": [
      "MSE:  0.3219652106610424\n",
      "R square value:  0.7806907476998197\n"
     ]
    }
   ],
   "source": [
    "print(\"MSE: \",mean_squared_error(Y_test,predictions))\n",
    "print(\"R square value: \",r2_score(Y_test,predictions))"
   ]
  },
  {
   "cell_type": "markdown",
   "id": "4c54cd02",
   "metadata": {},
   "source": [
    "   #                        >>M5: MODEL FINE TUNING"
   ]
  },
  {
   "cell_type": "markdown",
   "id": "89081fb1",
   "metadata": {},
   "source": [
    "# MODEL FINE TUNING"
   ]
  },
  {
   "cell_type": "markdown",
   "id": "0a406c47",
   "metadata": {},
   "source": [
    "Since, All the Modelling is not accurate ,We can increase the accuracy and other factors.for that wedo Fine -Tuning for All the Models\n",
    "\n",
    "Here ,we are using Hyper-Parameter Technique in Fine Tuning.\n"
   ]
  },
  {
   "cell_type": "markdown",
   "id": "e4ac56b5",
   "metadata": {},
   "source": [
    "Linear Regression"
   ]
  },
  {
   "cell_type": "code",
   "execution_count": 211,
   "id": "aba2d38b",
   "metadata": {},
   "outputs": [
    {
     "data": {
      "text/plain": [
       "{'copy_X': True,\n",
       " 'fit_intercept': True,\n",
       " 'n_jobs': None,\n",
       " 'normalize': False,\n",
       " 'positive': False}"
      ]
     },
     "execution_count": 211,
     "metadata": {},
     "output_type": "execute_result"
    }
   ],
   "source": [
    "lr.get_params()"
   ]
  },
  {
   "cell_type": "code",
   "execution_count": 214,
   "id": "01b6cd05",
   "metadata": {},
   "outputs": [],
   "source": [
    "from sklearn.linear_model import LogisticRegression\n",
    "lr1 = LogisticRegression(penalty='l2' ,C=5, solver='sag', max_iter=200, multi_class='auto')\n",
    "logit_model = lr1.fit(X_train, Y_train)\n",
    "y_predict = logit_model.predict(X_test)"
   ]
  },
  {
   "cell_type": "code",
   "execution_count": 215,
   "id": "08fb61ed",
   "metadata": {},
   "outputs": [
    {
     "name": "stdout",
     "output_type": "stream",
     "text": [
      "MSE:  0.3219652106610424\n",
      "R square value:  0.7806907476998197\n"
     ]
    }
   ],
   "source": [
    "print(\"MSE: \",mean_squared_error(Y_test,predictions))\n",
    "print(\"R square value: \",r2_score(Y_test,predictions))"
   ]
  },
  {
   "cell_type": "markdown",
   "id": "d0faa9bb",
   "metadata": {},
   "source": [
    "Decision Tree"
   ]
  },
  {
   "cell_type": "code",
   "execution_count": 216,
   "id": "748738c6",
   "metadata": {},
   "outputs": [
    {
     "data": {
      "text/plain": [
       "{'ccp_alpha': 0.0,\n",
       " 'criterion': 'mse',\n",
       " 'max_depth': None,\n",
       " 'max_features': None,\n",
       " 'max_leaf_nodes': None,\n",
       " 'min_impurity_decrease': 0.0,\n",
       " 'min_impurity_split': None,\n",
       " 'min_samples_leaf': 1,\n",
       " 'min_samples_split': 2,\n",
       " 'min_weight_fraction_leaf': 0.0,\n",
       " 'random_state': None,\n",
       " 'splitter': 'best'}"
      ]
     },
     "execution_count": 216,
     "metadata": {},
     "output_type": "execute_result"
    }
   ],
   "source": [
    "dt_model.get_params()"
   ]
  },
  {
   "cell_type": "code",
   "execution_count": 217,
   "id": "f9f3fe97",
   "metadata": {},
   "outputs": [],
   "source": [
    "from sklearn.tree import DecisionTreeRegressor\n",
    "dt_model1=DecisionTreeRegressor(max_depth=50,random_state=42,criterion= 'mse')\n",
    "dt_model1.fit(X_train,Y_train)\n",
    "predictions=dt_model1.predict(X_test)"
   ]
  },
  {
   "cell_type": "code",
   "execution_count": 218,
   "id": "02324a79",
   "metadata": {},
   "outputs": [
    {
     "name": "stdout",
     "output_type": "stream",
     "text": [
      "MSE:  0.06788555950567124\n",
      "R square value:  0.9537591925953707\n",
      "Accuracy is:  0.9549686812256645\n"
     ]
    }
   ],
   "source": [
    "print(\"MSE: \",mean_squared_error(Y_test,predictions))\n",
    "print(\"R square value: \",r2_score(Y_test,predictions))\n",
    "print(\"Accuracy is: \", accuracy_score(Y_test,predictions))"
   ]
  },
  {
   "cell_type": "markdown",
   "id": "675d448c",
   "metadata": {},
   "source": [
    "Random Forest"
   ]
  },
  {
   "cell_type": "code",
   "execution_count": 219,
   "id": "5abf6587",
   "metadata": {},
   "outputs": [
    {
     "data": {
      "text/plain": [
       "{'bootstrap': True,\n",
       " 'ccp_alpha': 0.0,\n",
       " 'criterion': 'mse',\n",
       " 'max_depth': None,\n",
       " 'max_features': 'auto',\n",
       " 'max_leaf_nodes': None,\n",
       " 'max_samples': None,\n",
       " 'min_impurity_decrease': 0.0,\n",
       " 'min_impurity_split': None,\n",
       " 'min_samples_leaf': 1,\n",
       " 'min_samples_split': 2,\n",
       " 'min_weight_fraction_leaf': 0.0,\n",
       " 'n_estimators': 100,\n",
       " 'n_jobs': None,\n",
       " 'oob_score': False,\n",
       " 'random_state': None,\n",
       " 'verbose': 0,\n",
       " 'warm_start': False}"
      ]
     },
     "execution_count": 219,
     "metadata": {},
     "output_type": "execute_result"
    }
   ],
   "source": [
    "reg_rf.get_params()"
   ]
  },
  {
   "cell_type": "code",
   "execution_count": 220,
   "id": "eb5b1855",
   "metadata": {},
   "outputs": [],
   "source": [
    "from sklearn.ensemble import RandomForestRegressor\n",
    "reg_rf1=RandomForestRegressor(n_estimators = 1000, max_features='auto',oob_score = True,n_jobs = 1,random_state =1)  \n",
    "reg_rf1.fit(X_train,Y_train)\n",
    "predictions=reg_rf1.predict(X_test)"
   ]
  },
  {
   "cell_type": "code",
   "execution_count": 221,
   "id": "d3f4a5fc",
   "metadata": {},
   "outputs": [
    {
     "name": "stdout",
     "output_type": "stream",
     "text": [
      "MSE:  0.03603600355510411\n",
      "R square value:  0.9754537796821886\n"
     ]
    }
   ],
   "source": [
    "print(\"MSE: \",mean_squared_error(Y_test,predictions))\n",
    "print(\"R square value: \",r2_score(Y_test,predictions))"
   ]
  },
  {
   "cell_type": "markdown",
   "id": "b65b8dc7",
   "metadata": {},
   "source": [
    "KNN"
   ]
  },
  {
   "cell_type": "code",
   "execution_count": 222,
   "id": "30d4bb70",
   "metadata": {},
   "outputs": [
    {
     "data": {
      "text/plain": [
       "{'algorithm': 'auto',\n",
       " 'leaf_size': 30,\n",
       " 'metric': 'minkowski',\n",
       " 'metric_params': None,\n",
       " 'n_jobs': None,\n",
       " 'n_neighbors': 5,\n",
       " 'p': 2,\n",
       " 'weights': 'uniform'}"
      ]
     },
     "execution_count": 222,
     "metadata": {},
     "output_type": "execute_result"
    }
   ],
   "source": [
    "Knn_cl.get_params()"
   ]
  },
  {
   "cell_type": "code",
   "execution_count": 223,
   "id": "8196f7e0",
   "metadata": {},
   "outputs": [],
   "source": [
    "Knn_cl1=KNeighborsClassifier(metric='minkowski',p= 2)\n",
    "Knn_cl1.fit(X_train,Y_train)\n",
    "predictions = Knn_cl.predict(X_test)"
   ]
  },
  {
   "cell_type": "code",
   "execution_count": 224,
   "id": "8cfc1566",
   "metadata": {},
   "outputs": [
    {
     "name": "stdout",
     "output_type": "stream",
     "text": [
      "MSE:  0.16048755713560184\n",
      "R square value:  0.8906825800010261\n",
      "Accuracy is:  0.877433553411207\n"
     ]
    }
   ],
   "source": [
    "print(\"MSE: \",mean_squared_error(Y_test,predictions))\n",
    "print(\"R square value: \",r2_score(Y_test,predictions))\n",
    "print(\"Accuracy is: \", accuracy_score(Y_test,predictions))"
   ]
  },
  {
   "cell_type": "markdown",
   "id": "560bb8d0",
   "metadata": {},
   "source": [
    "Gradient Boosting"
   ]
  },
  {
   "cell_type": "code",
   "execution_count": 225,
   "id": "169b3cff",
   "metadata": {},
   "outputs": [
    {
     "data": {
      "text/plain": [
       "{'ccp_alpha': 0.0,\n",
       " 'criterion': 'friedman_mse',\n",
       " 'init': None,\n",
       " 'learning_rate': 0.1,\n",
       " 'loss': 'deviance',\n",
       " 'max_depth': 3,\n",
       " 'max_features': None,\n",
       " 'max_leaf_nodes': None,\n",
       " 'min_impurity_decrease': 0.0,\n",
       " 'min_impurity_split': None,\n",
       " 'min_samples_leaf': 1,\n",
       " 'min_samples_split': 2,\n",
       " 'min_weight_fraction_leaf': 0.0,\n",
       " 'n_estimators': 100,\n",
       " 'n_iter_no_change': None,\n",
       " 'random_state': None,\n",
       " 'subsample': 1.0,\n",
       " 'tol': 0.0001,\n",
       " 'validation_fraction': 0.1,\n",
       " 'verbose': 0,\n",
       " 'warm_start': False}"
      ]
     },
     "execution_count": 225,
     "metadata": {},
     "output_type": "execute_result"
    }
   ],
   "source": [
    "gb.get_params()"
   ]
  },
  {
   "cell_type": "code",
   "execution_count": 226,
   "id": "55e9aa14",
   "metadata": {},
   "outputs": [],
   "source": [
    "gb1=GradientBoostingClassifier(n_estimators=150, subsample=1, criterion='friedman_mse', min_samples_split=3)\n",
    "gb1.fit(X_train,Y_train)\n",
    "predictions=gb.predict(X_test)"
   ]
  },
  {
   "cell_type": "code",
   "execution_count": 227,
   "id": "de014af9",
   "metadata": {},
   "outputs": [
    {
     "name": "stdout",
     "output_type": "stream",
     "text": [
      "MSE:  0.0712713729473506\n",
      "R square value:  0.951452917911848\n",
      "Accuracy is:  0.9546300998814965\n"
     ]
    }
   ],
   "source": [
    "print(\"MSE: \",mean_squared_error(Y_test,predictions))\n",
    "print(\"R square value: \",r2_score(Y_test,predictions))\n",
    "print(\"Accuracy is: \", accuracy_score(Y_test,predictions))"
   ]
  },
  {
   "cell_type": "markdown",
   "id": "e027f3af",
   "metadata": {},
   "source": [
    "        When some of the hyper parameters are applied to the model, the overall performance of the model improves!! "
   ]
  }
 ],
 "metadata": {
  "kernelspec": {
   "display_name": "Python 3 (ipykernel)",
   "language": "python",
   "name": "python3"
  },
  "language_info": {
   "codemirror_mode": {
    "name": "ipython",
    "version": 3
   },
   "file_extension": ".py",
   "mimetype": "text/x-python",
   "name": "python",
   "nbconvert_exporter": "python",
   "pygments_lexer": "ipython3",
   "version": "3.9.7"
  }
 },
 "nbformat": 4,
 "nbformat_minor": 5
}
